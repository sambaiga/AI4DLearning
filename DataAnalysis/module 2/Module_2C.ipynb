{
 "cells": [
  {
   "cell_type": "markdown",
   "metadata": {},
   "source": [
    "# <img style=\"float: left; padding-right: 100px; width: 300px\" src=\"../image/logo.png\">AI4SG Bootcamp:\n",
    "\n",
    "\n",
    "\n",
    "## Module 2B: Working with time series data\n",
    "\n",
    "\n",
    "**Authors:** Faustine\n",
    "\n",
    "\n",
    "---"
   ]
  },
  {
   "cell_type": "code",
   "execution_count": 96,
   "metadata": {},
   "outputs": [],
   "source": [
    "import numpy as np\n",
    "import pandas as pd\n",
    "import matplotlib.pyplot as plt\n",
    "%matplotlib inline"
   ]
  },
  {
   "cell_type": "markdown",
   "metadata": {},
   "source": [
    "# Time series\n",
    "\n",
    "Time series data is an important form of structured data in many different fields, such\n",
    "as finance, economics, ecology, neuroscience, and physics. Anything that is observed\n",
    "or measured at many points in time forms a time series."
   ]
  },
  {
   "cell_type": "markdown",
   "metadata": {},
   "source": [
    "## Date and Time Data Types"
   ]
  },
  {
   "cell_type": "markdown",
   "metadata": {},
   "source": [
    "The Python standard library includes data types for date and time data, as well as\n",
    "calendar-related functionality. \n",
    "main places to start. The datetime.datetime type, or simply datetime , is widely\n",
    "used:"
   ]
  },
  {
   "cell_type": "code",
   "execution_count": 2,
   "metadata": {},
   "outputs": [],
   "source": [
    "from datetime import datetime as dt"
   ]
  },
  {
   "cell_type": "code",
   "execution_count": 3,
   "metadata": {},
   "outputs": [
    {
     "data": {
      "text/plain": [
       "datetime.datetime(2019, 7, 1, 13, 54, 41, 590011)"
      ]
     },
     "execution_count": 3,
     "metadata": {},
     "output_type": "execute_result"
    }
   ],
   "source": [
    "dt.now()"
   ]
  },
  {
   "cell_type": "code",
   "execution_count": 4,
   "metadata": {},
   "outputs": [
    {
     "data": {
      "text/plain": [
       "datetime.datetime(2016, 12, 19, 13, 30)"
      ]
     },
     "execution_count": 4,
     "metadata": {},
     "output_type": "execute_result"
    }
   ],
   "source": [
    "ts = dt(year=2016, month=12, day=19, hour=13, minute=30)\n",
    "ts"
   ]
  },
  {
   "cell_type": "markdown",
   "metadata": {},
   "source": [
    "You can format datetime objects and pandas Timestamp objects, which I’ll introduce\n",
    "later, as strings using `str` or the `strftime` method, passing a format specification"
   ]
  },
  {
   "cell_type": "code",
   "execution_count": 5,
   "metadata": {},
   "outputs": [
    {
     "data": {
      "text/plain": [
       "'2016-12-19 13:30:00'"
      ]
     },
     "execution_count": 5,
     "metadata": {},
     "output_type": "execute_result"
    }
   ],
   "source": [
    "str(ts)"
   ]
  },
  {
   "cell_type": "code",
   "execution_count": 6,
   "metadata": {},
   "outputs": [
    {
     "data": {
      "text/plain": [
       "'19 December 2016'"
      ]
     },
     "execution_count": 6,
     "metadata": {},
     "output_type": "execute_result"
    }
   ],
   "source": [
    "ts.strftime(\"%d %B %Y\")"
   ]
  },
  {
   "cell_type": "markdown",
   "metadata": {},
   "source": [
    "## Dates and times in pandas"
   ]
  },
  {
   "cell_type": "markdown",
   "metadata": {},
   "source": [
    "### The ``Timestamp`` object\n",
    "\n",
    "Pandas has its own date and time objects, which are compatible with the standard `datetime` objects, but provide some more functionality to work with.  \n",
    "\n",
    "The `Timestamp` object can also be constructed from a string:"
   ]
  },
  {
   "cell_type": "code",
   "execution_count": 7,
   "metadata": {},
   "outputs": [
    {
     "data": {
      "text/plain": [
       "Timestamp('2016-12-19 00:00:00')"
      ]
     },
     "execution_count": 7,
     "metadata": {},
     "output_type": "execute_result"
    }
   ],
   "source": [
    "ts = pd.Timestamp('2016-12-19')\n",
    "ts"
   ]
  },
  {
   "cell_type": "markdown",
   "metadata": {},
   "source": [
    "Like with `datetime.datetime` objects, there are several useful attributes available on the `Timestamp`. For example, we can get the month (experiment with tab completion!):"
   ]
  },
  {
   "cell_type": "code",
   "execution_count": 8,
   "metadata": {},
   "outputs": [
    {
     "data": {
      "text/plain": [
       "12"
      ]
     },
     "execution_count": 8,
     "metadata": {},
     "output_type": "execute_result"
    }
   ],
   "source": [
    "ts.month"
   ]
  },
  {
   "cell_type": "markdown",
   "metadata": {},
   "source": [
    "There is also a `Timedelta` type, which can e.g. be used to add intervals of time:\n"
   ]
  },
  {
   "cell_type": "code",
   "execution_count": 9,
   "metadata": {},
   "outputs": [
    {
     "data": {
      "text/plain": [
       "Timestamp('2016-12-24 00:00:00')"
      ]
     },
     "execution_count": 9,
     "metadata": {},
     "output_type": "execute_result"
    }
   ],
   "source": [
    "ts + pd.Timedelta('5 days')"
   ]
  },
  {
   "cell_type": "markdown",
   "metadata": {},
   "source": [
    "Unfortunately, when working with real world data, you encounter many different `datetime` formats. Most of the time when you have to deal with them, they come in text format, e.g. from a `CSV` file. To work with those data in Pandas, we first have to *parse* the strings to actual `Timestamp` objects."
   ]
  },
  {
   "cell_type": "markdown",
   "metadata": {},
   "source": [
    "To convert string formatted dates to Timestamp objects: use the `pandas.to_datetime` function"
   ]
  },
  {
   "cell_type": "code",
   "execution_count": 10,
   "metadata": {},
   "outputs": [
    {
     "data": {
      "text/plain": [
       "Timestamp('2016-12-09 00:00:00')"
      ]
     },
     "execution_count": 10,
     "metadata": {},
     "output_type": "execute_result"
    }
   ],
   "source": [
    "pd.to_datetime(\"2016-12-09\")"
   ]
  },
  {
   "cell_type": "code",
   "execution_count": 11,
   "metadata": {},
   "outputs": [
    {
     "data": {
      "text/plain": [
       "Timestamp('2016-09-12 00:00:00')"
      ]
     },
     "execution_count": 11,
     "metadata": {},
     "output_type": "execute_result"
    }
   ],
   "source": [
    "pd.to_datetime(\"09/12/2016\")"
   ]
  },
  {
   "cell_type": "markdown",
   "metadata": {},
   "source": [
    "For the following demonstration of the time series functionality, we use a [Household Power Consumption data set](https://archive.ics.uci.edu/ml/datasets/individual+household+electric+power+consumption). The Household Power Consumption dataset is a multivariate time series dataset that describes the electricity consumption for a single household over four years. The data was collected between December 2006 and November 2010 and observations of power consumption within the household were collected every minute.\n",
    "\n",
    "It is a multivariate series comprised of seven variables (besides the date and time); they are:\n",
    "\n",
    "- global_active_power: The total active power consumed by the household (kilowatts).\n",
    "- global_reactive_power: The total reactive power consumed by the household (kilowatts).\n",
    "- voltage: Average voltage (volts).\n",
    "- global_intensity: Average current intensity (amps).\n",
    "- sub_metering_1: Active energy for kitchen (watt-hours of active energy).\n",
    "- sub_metering_2: Active energy for laundry (watt-hours of active energy).\n",
    "- sub_metering_3: Active energy for climate control systems (watt-hours of active energy)."
   ]
  },
  {
   "cell_type": "markdown",
   "metadata": {},
   "source": [
    "```\n",
    "python\n",
    "df = pd.read_csv(\"data/household_power_consumption.txt\", sep=';', header=0, low_memory=False, parse_dates={'datetime':[0,1]})\n",
    "\n",
    "```"
   ]
  },
  {
   "cell_type": "code",
   "execution_count": 62,
   "metadata": {},
   "outputs": [],
   "source": [
    "data = pd.read_csv(\"data/householpd_power.csv\", low_memory=False)"
   ]
  },
  {
   "cell_type": "code",
   "execution_count": 63,
   "metadata": {},
   "outputs": [
    {
     "data": {
      "text/html": [
       "<div>\n",
       "<style scoped>\n",
       "    .dataframe tbody tr th:only-of-type {\n",
       "        vertical-align: middle;\n",
       "    }\n",
       "\n",
       "    .dataframe tbody tr th {\n",
       "        vertical-align: top;\n",
       "    }\n",
       "\n",
       "    .dataframe thead th {\n",
       "        text-align: right;\n",
       "    }\n",
       "</style>\n",
       "<table border=\"1\" class=\"dataframe\">\n",
       "  <thead>\n",
       "    <tr style=\"text-align: right;\">\n",
       "      <th></th>\n",
       "      <th>datetime</th>\n",
       "      <th>Global_active_power</th>\n",
       "      <th>Global_reactive_power</th>\n",
       "      <th>Voltage</th>\n",
       "      <th>Global_intensity</th>\n",
       "      <th>Sub_metering_1</th>\n",
       "      <th>Sub_metering_2</th>\n",
       "      <th>Sub_metering_3</th>\n",
       "    </tr>\n",
       "  </thead>\n",
       "  <tbody>\n",
       "    <tr>\n",
       "      <th>0</th>\n",
       "      <td>2006-12-16 17:24:00</td>\n",
       "      <td>4.216</td>\n",
       "      <td>0.418</td>\n",
       "      <td>234.840</td>\n",
       "      <td>18.400</td>\n",
       "      <td>0.000</td>\n",
       "      <td>1.000</td>\n",
       "      <td>17.0</td>\n",
       "    </tr>\n",
       "    <tr>\n",
       "      <th>1</th>\n",
       "      <td>2006-12-16 17:25:00</td>\n",
       "      <td>5.360</td>\n",
       "      <td>0.436</td>\n",
       "      <td>233.630</td>\n",
       "      <td>23.000</td>\n",
       "      <td>0.000</td>\n",
       "      <td>1.000</td>\n",
       "      <td>16.0</td>\n",
       "    </tr>\n",
       "    <tr>\n",
       "      <th>2</th>\n",
       "      <td>2006-12-16 17:26:00</td>\n",
       "      <td>5.374</td>\n",
       "      <td>0.498</td>\n",
       "      <td>233.290</td>\n",
       "      <td>23.000</td>\n",
       "      <td>0.000</td>\n",
       "      <td>2.000</td>\n",
       "      <td>17.0</td>\n",
       "    </tr>\n",
       "    <tr>\n",
       "      <th>3</th>\n",
       "      <td>2006-12-16 17:27:00</td>\n",
       "      <td>5.388</td>\n",
       "      <td>0.502</td>\n",
       "      <td>233.740</td>\n",
       "      <td>23.000</td>\n",
       "      <td>0.000</td>\n",
       "      <td>1.000</td>\n",
       "      <td>17.0</td>\n",
       "    </tr>\n",
       "    <tr>\n",
       "      <th>4</th>\n",
       "      <td>2006-12-16 17:28:00</td>\n",
       "      <td>3.666</td>\n",
       "      <td>0.528</td>\n",
       "      <td>235.680</td>\n",
       "      <td>15.800</td>\n",
       "      <td>0.000</td>\n",
       "      <td>1.000</td>\n",
       "      <td>17.0</td>\n",
       "    </tr>\n",
       "  </tbody>\n",
       "</table>\n",
       "</div>"
      ],
      "text/plain": [
       "              datetime Global_active_power Global_reactive_power  Voltage  \\\n",
       "0  2006-12-16 17:24:00               4.216                 0.418  234.840   \n",
       "1  2006-12-16 17:25:00               5.360                 0.436  233.630   \n",
       "2  2006-12-16 17:26:00               5.374                 0.498  233.290   \n",
       "3  2006-12-16 17:27:00               5.388                 0.502  233.740   \n",
       "4  2006-12-16 17:28:00               3.666                 0.528  235.680   \n",
       "\n",
       "  Global_intensity Sub_metering_1 Sub_metering_2  Sub_metering_3  \n",
       "0           18.400          0.000          1.000            17.0  \n",
       "1           23.000          0.000          1.000            16.0  \n",
       "2           23.000          0.000          2.000            17.0  \n",
       "3           23.000          0.000          1.000            17.0  \n",
       "4           15.800          0.000          1.000            17.0  "
      ]
     },
     "execution_count": 63,
     "metadata": {},
     "output_type": "execute_result"
    }
   ],
   "source": [
    "data.head()"
   ]
  },
  {
   "cell_type": "markdown",
   "metadata": {},
   "source": [
    "Let us rename the column name as follows:\n",
    "    "
   ]
  },
  {
   "cell_type": "code",
   "execution_count": 64,
   "metadata": {},
   "outputs": [],
   "source": [
    "new_columns = {'Global_active_power':\"P\", 'Global_reactive_power':\"S\", 'Voltage':\"V\",\n",
    "       'Global_intensity':\"I\"}\n",
    "data=data.rename(columns =new_columns)"
   ]
  },
  {
   "cell_type": "markdown",
   "metadata": {},
   "source": [
    "Next, we can mark all missing values indicated with a ‘?’ character with a NaN value, which is a float.This will allow us to work with the data as one array of floating point values rather than mixed types, which is less efficient."
   ]
  },
  {
   "cell_type": "code",
   "execution_count": 65,
   "metadata": {},
   "outputs": [],
   "source": [
    "data=data.replace('?', np.nan)"
   ]
  },
  {
   "cell_type": "markdown",
   "metadata": {},
   "source": [
    "We already know how to parse a date column with Pandas:\n",
    "\n"
   ]
  },
  {
   "cell_type": "code",
   "execution_count": 66,
   "metadata": {},
   "outputs": [],
   "source": [
    "data['datetime'] = pd.to_datetime(data['datetime'])"
   ]
  },
  {
   "cell_type": "markdown",
   "metadata": {},
   "source": [
    "With `set_index('datetime')`, we set the column with datetime values as the index, which can be done by both `Series` and `DataFrame`."
   ]
  },
  {
   "cell_type": "code",
   "execution_count": 67,
   "metadata": {},
   "outputs": [],
   "source": [
    "data = data.set_index(\"datetime\")"
   ]
  },
  {
   "cell_type": "code",
   "execution_count": 68,
   "metadata": {},
   "outputs": [
    {
     "data": {
      "text/html": [
       "<div>\n",
       "<style scoped>\n",
       "    .dataframe tbody tr th:only-of-type {\n",
       "        vertical-align: middle;\n",
       "    }\n",
       "\n",
       "    .dataframe tbody tr th {\n",
       "        vertical-align: top;\n",
       "    }\n",
       "\n",
       "    .dataframe thead th {\n",
       "        text-align: right;\n",
       "    }\n",
       "</style>\n",
       "<table border=\"1\" class=\"dataframe\">\n",
       "  <thead>\n",
       "    <tr style=\"text-align: right;\">\n",
       "      <th></th>\n",
       "      <th>P</th>\n",
       "      <th>S</th>\n",
       "      <th>V</th>\n",
       "      <th>I</th>\n",
       "      <th>Sub_metering_1</th>\n",
       "      <th>Sub_metering_2</th>\n",
       "      <th>Sub_metering_3</th>\n",
       "    </tr>\n",
       "    <tr>\n",
       "      <th>datetime</th>\n",
       "      <th></th>\n",
       "      <th></th>\n",
       "      <th></th>\n",
       "      <th></th>\n",
       "      <th></th>\n",
       "      <th></th>\n",
       "      <th></th>\n",
       "    </tr>\n",
       "  </thead>\n",
       "  <tbody>\n",
       "    <tr>\n",
       "      <th>2006-12-16 17:24:00</th>\n",
       "      <td>4.216</td>\n",
       "      <td>0.418</td>\n",
       "      <td>234.840</td>\n",
       "      <td>18.400</td>\n",
       "      <td>0.000</td>\n",
       "      <td>1.000</td>\n",
       "      <td>17.0</td>\n",
       "    </tr>\n",
       "    <tr>\n",
       "      <th>2006-12-16 17:25:00</th>\n",
       "      <td>5.360</td>\n",
       "      <td>0.436</td>\n",
       "      <td>233.630</td>\n",
       "      <td>23.000</td>\n",
       "      <td>0.000</td>\n",
       "      <td>1.000</td>\n",
       "      <td>16.0</td>\n",
       "    </tr>\n",
       "    <tr>\n",
       "      <th>2006-12-16 17:26:00</th>\n",
       "      <td>5.374</td>\n",
       "      <td>0.498</td>\n",
       "      <td>233.290</td>\n",
       "      <td>23.000</td>\n",
       "      <td>0.000</td>\n",
       "      <td>2.000</td>\n",
       "      <td>17.0</td>\n",
       "    </tr>\n",
       "    <tr>\n",
       "      <th>2006-12-16 17:27:00</th>\n",
       "      <td>5.388</td>\n",
       "      <td>0.502</td>\n",
       "      <td>233.740</td>\n",
       "      <td>23.000</td>\n",
       "      <td>0.000</td>\n",
       "      <td>1.000</td>\n",
       "      <td>17.0</td>\n",
       "    </tr>\n",
       "    <tr>\n",
       "      <th>2006-12-16 17:28:00</th>\n",
       "      <td>3.666</td>\n",
       "      <td>0.528</td>\n",
       "      <td>235.680</td>\n",
       "      <td>15.800</td>\n",
       "      <td>0.000</td>\n",
       "      <td>1.000</td>\n",
       "      <td>17.0</td>\n",
       "    </tr>\n",
       "  </tbody>\n",
       "</table>\n",
       "</div>"
      ],
      "text/plain": [
       "                         P      S        V       I Sub_metering_1  \\\n",
       "datetime                                                            \n",
       "2006-12-16 17:24:00  4.216  0.418  234.840  18.400          0.000   \n",
       "2006-12-16 17:25:00  5.360  0.436  233.630  23.000          0.000   \n",
       "2006-12-16 17:26:00  5.374  0.498  233.290  23.000          0.000   \n",
       "2006-12-16 17:27:00  5.388  0.502  233.740  23.000          0.000   \n",
       "2006-12-16 17:28:00  3.666  0.528  235.680  15.800          0.000   \n",
       "\n",
       "                    Sub_metering_2  Sub_metering_3  \n",
       "datetime                                            \n",
       "2006-12-16 17:24:00          1.000            17.0  \n",
       "2006-12-16 17:25:00          1.000            16.0  \n",
       "2006-12-16 17:26:00          2.000            17.0  \n",
       "2006-12-16 17:27:00          1.000            17.0  \n",
       "2006-12-16 17:28:00          1.000            17.0  "
      ]
     },
     "execution_count": 68,
     "metadata": {},
     "output_type": "execute_result"
    }
   ],
   "source": [
    "data.head()"
   ]
  },
  {
   "cell_type": "markdown",
   "metadata": {},
   "source": [
    "## The DatetimeIndex"
   ]
  },
  {
   "cell_type": "markdown",
   "metadata": {},
   "source": [
    "When we ensure the DataFrame has a `DatetimeIndex`, time-series related functionality becomes available:"
   ]
  },
  {
   "cell_type": "code",
   "execution_count": 69,
   "metadata": {},
   "outputs": [
    {
     "data": {
      "text/plain": [
       "DatetimeIndex(['2006-12-16 17:24:00', '2006-12-16 17:25:00',\n",
       "               '2006-12-16 17:26:00', '2006-12-16 17:27:00',\n",
       "               '2006-12-16 17:28:00', '2006-12-16 17:29:00',\n",
       "               '2006-12-16 17:30:00', '2006-12-16 17:31:00',\n",
       "               '2006-12-16 17:32:00', '2006-12-16 17:33:00',\n",
       "               ...\n",
       "               '2010-11-26 20:53:00', '2010-11-26 20:54:00',\n",
       "               '2010-11-26 20:55:00', '2010-11-26 20:56:00',\n",
       "               '2010-11-26 20:57:00', '2010-11-26 20:58:00',\n",
       "               '2010-11-26 20:59:00', '2010-11-26 21:00:00',\n",
       "               '2010-11-26 21:01:00', '2010-11-26 21:02:00'],\n",
       "              dtype='datetime64[ns]', name='datetime', length=2075259, freq=None)"
      ]
     },
     "execution_count": 69,
     "metadata": {},
     "output_type": "execute_result"
    }
   ],
   "source": [
    "data.index"
   ]
  },
  {
   "cell_type": "markdown",
   "metadata": {},
   "source": [
    "Similar to a Series with datetime data, there are some attributes of the timestamp values available:"
   ]
  },
  {
   "cell_type": "code",
   "execution_count": 70,
   "metadata": {},
   "outputs": [
    {
     "data": {
      "text/plain": [
       "Int64Index([16, 16, 16, 16, 16, 16, 16, 16, 16, 16,\n",
       "            ...\n",
       "            26, 26, 26, 26, 26, 26, 26, 26, 26, 26],\n",
       "           dtype='int64', name='datetime', length=2075259)"
      ]
     },
     "execution_count": 70,
     "metadata": {},
     "output_type": "execute_result"
    }
   ],
   "source": [
    "data.index.day"
   ]
  },
  {
   "cell_type": "code",
   "execution_count": 71,
   "metadata": {},
   "outputs": [
    {
     "data": {
      "text/plain": [
       "Int64Index([2006, 2006, 2006, 2006, 2006, 2006, 2006, 2006, 2006, 2006,\n",
       "            ...\n",
       "            2010, 2010, 2010, 2010, 2010, 2010, 2010, 2010, 2010, 2010],\n",
       "           dtype='int64', name='datetime', length=2075259)"
      ]
     },
     "execution_count": 71,
     "metadata": {},
     "output_type": "execute_result"
    }
   ],
   "source": [
    "data.index.year"
   ]
  },
  {
   "cell_type": "markdown",
   "metadata": {},
   "source": [
    "The `plot` method will also adapt its labels (when you zoom in, you can see the different levels of detail of the datetime labels): For example let plot active power column\n"
   ]
  },
  {
   "cell_type": "code",
   "execution_count": 72,
   "metadata": {},
   "outputs": [
    {
     "ename": "TypeError",
     "evalue": "Empty 'DataFrame': no numeric data to plot",
     "output_type": "error",
     "traceback": [
      "\u001b[0;31m---------------------------------------------------------------------------\u001b[0m",
      "\u001b[0;31mTypeError\u001b[0m                                 Traceback (most recent call last)",
      "\u001b[0;32m<ipython-input-72-b4cca91e0569>\u001b[0m in \u001b[0;36m<module>\u001b[0;34m\u001b[0m\n\u001b[0;32m----> 1\u001b[0;31m \u001b[0mdata\u001b[0m\u001b[0;34m[\u001b[0m\u001b[0;34m\"P\"\u001b[0m\u001b[0;34m]\u001b[0m\u001b[0;34m.\u001b[0m\u001b[0mplot\u001b[0m\u001b[0;34m(\u001b[0m\u001b[0;34m)\u001b[0m\u001b[0;34m\u001b[0m\u001b[0;34m\u001b[0m\u001b[0m\n\u001b[0m",
      "\u001b[0;32m~/anaconda3/lib/python3.6/site-packages/pandas/plotting/_core.py\u001b[0m in \u001b[0;36m__call__\u001b[0;34m(self, kind, ax, figsize, use_index, title, grid, legend, style, logx, logy, loglog, xticks, yticks, xlim, ylim, rot, fontsize, colormap, table, yerr, xerr, label, secondary_y, **kwds)\u001b[0m\n\u001b[1;32m   2740\u001b[0m                            \u001b[0mcolormap\u001b[0m\u001b[0;34m=\u001b[0m\u001b[0mcolormap\u001b[0m\u001b[0;34m,\u001b[0m \u001b[0mtable\u001b[0m\u001b[0;34m=\u001b[0m\u001b[0mtable\u001b[0m\u001b[0;34m,\u001b[0m \u001b[0myerr\u001b[0m\u001b[0;34m=\u001b[0m\u001b[0myerr\u001b[0m\u001b[0;34m,\u001b[0m\u001b[0;34m\u001b[0m\u001b[0;34m\u001b[0m\u001b[0m\n\u001b[1;32m   2741\u001b[0m                            \u001b[0mxerr\u001b[0m\u001b[0;34m=\u001b[0m\u001b[0mxerr\u001b[0m\u001b[0;34m,\u001b[0m \u001b[0mlabel\u001b[0m\u001b[0;34m=\u001b[0m\u001b[0mlabel\u001b[0m\u001b[0;34m,\u001b[0m \u001b[0msecondary_y\u001b[0m\u001b[0;34m=\u001b[0m\u001b[0msecondary_y\u001b[0m\u001b[0;34m,\u001b[0m\u001b[0;34m\u001b[0m\u001b[0;34m\u001b[0m\u001b[0m\n\u001b[0;32m-> 2742\u001b[0;31m                            **kwds)\n\u001b[0m\u001b[1;32m   2743\u001b[0m     \u001b[0m__call__\u001b[0m\u001b[0;34m.\u001b[0m\u001b[0m__doc__\u001b[0m \u001b[0;34m=\u001b[0m \u001b[0mplot_series\u001b[0m\u001b[0;34m.\u001b[0m\u001b[0m__doc__\u001b[0m\u001b[0;34m\u001b[0m\u001b[0;34m\u001b[0m\u001b[0m\n\u001b[1;32m   2744\u001b[0m \u001b[0;34m\u001b[0m\u001b[0m\n",
      "\u001b[0;32m~/anaconda3/lib/python3.6/site-packages/pandas/plotting/_core.py\u001b[0m in \u001b[0;36mplot_series\u001b[0;34m(data, kind, ax, figsize, use_index, title, grid, legend, style, logx, logy, loglog, xticks, yticks, xlim, ylim, rot, fontsize, colormap, table, yerr, xerr, label, secondary_y, **kwds)\u001b[0m\n\u001b[1;32m   1996\u001b[0m                  \u001b[0myerr\u001b[0m\u001b[0;34m=\u001b[0m\u001b[0myerr\u001b[0m\u001b[0;34m,\u001b[0m \u001b[0mxerr\u001b[0m\u001b[0;34m=\u001b[0m\u001b[0mxerr\u001b[0m\u001b[0;34m,\u001b[0m\u001b[0;34m\u001b[0m\u001b[0;34m\u001b[0m\u001b[0m\n\u001b[1;32m   1997\u001b[0m                  \u001b[0mlabel\u001b[0m\u001b[0;34m=\u001b[0m\u001b[0mlabel\u001b[0m\u001b[0;34m,\u001b[0m \u001b[0msecondary_y\u001b[0m\u001b[0;34m=\u001b[0m\u001b[0msecondary_y\u001b[0m\u001b[0;34m,\u001b[0m\u001b[0;34m\u001b[0m\u001b[0;34m\u001b[0m\u001b[0m\n\u001b[0;32m-> 1998\u001b[0;31m                  **kwds)\n\u001b[0m\u001b[1;32m   1999\u001b[0m \u001b[0;34m\u001b[0m\u001b[0m\n\u001b[1;32m   2000\u001b[0m \u001b[0;34m\u001b[0m\u001b[0m\n",
      "\u001b[0;32m~/anaconda3/lib/python3.6/site-packages/pandas/plotting/_core.py\u001b[0m in \u001b[0;36m_plot\u001b[0;34m(data, x, y, subplots, ax, kind, **kwds)\u001b[0m\n\u001b[1;32m   1799\u001b[0m         \u001b[0mplot_obj\u001b[0m \u001b[0;34m=\u001b[0m \u001b[0mklass\u001b[0m\u001b[0;34m(\u001b[0m\u001b[0mdata\u001b[0m\u001b[0;34m,\u001b[0m \u001b[0msubplots\u001b[0m\u001b[0;34m=\u001b[0m\u001b[0msubplots\u001b[0m\u001b[0;34m,\u001b[0m \u001b[0max\u001b[0m\u001b[0;34m=\u001b[0m\u001b[0max\u001b[0m\u001b[0;34m,\u001b[0m \u001b[0mkind\u001b[0m\u001b[0;34m=\u001b[0m\u001b[0mkind\u001b[0m\u001b[0;34m,\u001b[0m \u001b[0;34m**\u001b[0m\u001b[0mkwds\u001b[0m\u001b[0;34m)\u001b[0m\u001b[0;34m\u001b[0m\u001b[0;34m\u001b[0m\u001b[0m\n\u001b[1;32m   1800\u001b[0m \u001b[0;34m\u001b[0m\u001b[0m\n\u001b[0;32m-> 1801\u001b[0;31m     \u001b[0mplot_obj\u001b[0m\u001b[0;34m.\u001b[0m\u001b[0mgenerate\u001b[0m\u001b[0;34m(\u001b[0m\u001b[0;34m)\u001b[0m\u001b[0;34m\u001b[0m\u001b[0;34m\u001b[0m\u001b[0m\n\u001b[0m\u001b[1;32m   1802\u001b[0m     \u001b[0mplot_obj\u001b[0m\u001b[0;34m.\u001b[0m\u001b[0mdraw\u001b[0m\u001b[0;34m(\u001b[0m\u001b[0;34m)\u001b[0m\u001b[0;34m\u001b[0m\u001b[0;34m\u001b[0m\u001b[0m\n\u001b[1;32m   1803\u001b[0m     \u001b[0;32mreturn\u001b[0m \u001b[0mplot_obj\u001b[0m\u001b[0;34m.\u001b[0m\u001b[0mresult\u001b[0m\u001b[0;34m\u001b[0m\u001b[0;34m\u001b[0m\u001b[0m\n",
      "\u001b[0;32m~/anaconda3/lib/python3.6/site-packages/pandas/plotting/_core.py\u001b[0m in \u001b[0;36mgenerate\u001b[0;34m(self)\u001b[0m\n\u001b[1;32m    247\u001b[0m     \u001b[0;32mdef\u001b[0m \u001b[0mgenerate\u001b[0m\u001b[0;34m(\u001b[0m\u001b[0mself\u001b[0m\u001b[0;34m)\u001b[0m\u001b[0;34m:\u001b[0m\u001b[0;34m\u001b[0m\u001b[0;34m\u001b[0m\u001b[0m\n\u001b[1;32m    248\u001b[0m         \u001b[0mself\u001b[0m\u001b[0;34m.\u001b[0m\u001b[0m_args_adjust\u001b[0m\u001b[0;34m(\u001b[0m\u001b[0;34m)\u001b[0m\u001b[0;34m\u001b[0m\u001b[0;34m\u001b[0m\u001b[0m\n\u001b[0;32m--> 249\u001b[0;31m         \u001b[0mself\u001b[0m\u001b[0;34m.\u001b[0m\u001b[0m_compute_plot_data\u001b[0m\u001b[0;34m(\u001b[0m\u001b[0;34m)\u001b[0m\u001b[0;34m\u001b[0m\u001b[0;34m\u001b[0m\u001b[0m\n\u001b[0m\u001b[1;32m    250\u001b[0m         \u001b[0mself\u001b[0m\u001b[0;34m.\u001b[0m\u001b[0m_setup_subplots\u001b[0m\u001b[0;34m(\u001b[0m\u001b[0;34m)\u001b[0m\u001b[0;34m\u001b[0m\u001b[0;34m\u001b[0m\u001b[0m\n\u001b[1;32m    251\u001b[0m         \u001b[0mself\u001b[0m\u001b[0;34m.\u001b[0m\u001b[0m_make_plot\u001b[0m\u001b[0;34m(\u001b[0m\u001b[0;34m)\u001b[0m\u001b[0;34m\u001b[0m\u001b[0;34m\u001b[0m\u001b[0m\n",
      "\u001b[0;32m~/anaconda3/lib/python3.6/site-packages/pandas/plotting/_core.py\u001b[0m in \u001b[0;36m_compute_plot_data\u001b[0;34m(self)\u001b[0m\n\u001b[1;32m    365\u001b[0m         \u001b[0;32mif\u001b[0m \u001b[0mis_empty\u001b[0m\u001b[0;34m:\u001b[0m\u001b[0;34m\u001b[0m\u001b[0;34m\u001b[0m\u001b[0m\n\u001b[1;32m    366\u001b[0m             raise TypeError('Empty {0!r}: no numeric data to '\n\u001b[0;32m--> 367\u001b[0;31m                             'plot'.format(numeric_data.__class__.__name__))\n\u001b[0m\u001b[1;32m    368\u001b[0m \u001b[0;34m\u001b[0m\u001b[0m\n\u001b[1;32m    369\u001b[0m         \u001b[0mself\u001b[0m\u001b[0;34m.\u001b[0m\u001b[0mdata\u001b[0m \u001b[0;34m=\u001b[0m \u001b[0mnumeric_data\u001b[0m\u001b[0;34m\u001b[0m\u001b[0;34m\u001b[0m\u001b[0m\n",
      "\u001b[0;31mTypeError\u001b[0m: Empty 'DataFrame': no numeric data to plot"
     ]
    }
   ],
   "source": [
    "data[\"P\"].plot()"
   ]
  },
  {
   "cell_type": "markdown",
   "metadata": {},
   "source": [
    "**Note** the tpe of error: \n",
    "TypeError: Empty 'DataFrame': no numeric data to plot so we can verify the data dype of each column."
   ]
  },
  {
   "cell_type": "code",
   "execution_count": 73,
   "metadata": {},
   "outputs": [
    {
     "data": {
      "text/plain": [
       "P                  object\n",
       "S                  object\n",
       "V                  object\n",
       "I                  object\n",
       "Sub_metering_1     object\n",
       "Sub_metering_2     object\n",
       "Sub_metering_3    float64\n",
       "dtype: object"
      ]
     },
     "execution_count": 73,
     "metadata": {},
     "output_type": "execute_result"
    }
   ],
   "source": [
    "data.dtypes"
   ]
  },
  {
   "cell_type": "markdown",
   "metadata": {},
   "source": [
    "As you can see the data type is object with excption to sub_metering_3. We have to convernt the data of the rest column into numeric using `pd.to_numeric()` function."
   ]
  },
  {
   "cell_type": "code",
   "execution_count": 74,
   "metadata": {},
   "outputs": [],
   "source": [
    "columns = [\"P\", \"S\", \"V\", \"I\", \"Sub_metering_1\", \"Sub_metering_1\"]\n",
    "data[columns] = data[columns].astype(float)"
   ]
  },
  {
   "cell_type": "code",
   "execution_count": 87,
   "metadata": {},
   "outputs": [
    {
     "data": {
      "text/plain": [
       "<matplotlib.axes._subplots.AxesSubplot at 0x7fc0686959e8>"
      ]
     },
     "execution_count": 87,
     "metadata": {},
     "output_type": "execute_result"
    },
    {
     "data": {
      "image/png": "[encoded data removed]",
      "text/plain": [
       "<Figure size 432x288 with 1 Axes>"
      ]
     },
     "metadata": {
      "needs_background": "light"
     },
     "output_type": "display_data"
    }
   ],
   "source": [
    "data[[\"P\", \"S\"]].plot()"
   ]
  },
  {
   "cell_type": "markdown",
   "metadata": {},
   "source": [
    "We have too much data to sensibly plot on one figure. Let's see how we can easily select part of the data or aggregate the data to other time resolutions in the next sections."
   ]
  },
  {
   "cell_type": "markdown",
   "metadata": {},
   "source": [
    "## Selecting data from a time series"
   ]
  },
  {
   "cell_type": "markdown",
   "metadata": {},
   "source": [
    "We can use label based indexing on a timeseries as expected:"
   ]
  },
  {
   "cell_type": "code",
   "execution_count": 83,
   "metadata": {},
   "outputs": [
    {
     "data": {
      "text/plain": [
       "<matplotlib.axes._subplots.AxesSubplot at 0x7fc0269565f8>"
      ]
     },
     "execution_count": 83,
     "metadata": {},
     "output_type": "execute_result"
    },
    {
     "data": {
      "image/png": "[encoded data removed]",
      "text/plain": [
       "<Figure size 432x288 with 1 Axes>"
      ]
     },
     "metadata": {
      "needs_background": "light"
     },
     "output_type": "display_data"
    }
   ],
   "source": [
    "data[pd.Timestamp(\"2007-01-01 09:00\"):pd.Timestamp(\"2007-01-01 19:00\")][\"P\"].plot()"
   ]
  },
  {
   "cell_type": "markdown",
   "metadata": {},
   "source": [
    "But, for convenience, indexing a time series also works with strings:"
   ]
  },
  {
   "cell_type": "code",
   "execution_count": 84,
   "metadata": {},
   "outputs": [
    {
     "data": {
      "text/plain": [
       "<matplotlib.axes._subplots.AxesSubplot at 0x7fc026805080>"
      ]
     },
     "execution_count": 84,
     "metadata": {},
     "output_type": "execute_result"
    },
    {
     "data": {
      "image/png": "[encoded data removed]",
      "text/plain": [
       "<Figure size 432x288 with 1 Axes>"
      ]
     },
     "metadata": {
      "needs_background": "light"
     },
     "output_type": "display_data"
    }
   ],
   "source": [
    "data[\"2007-01-01 09:00\":\"2007-01-01 19:00\"]['P'].plot()"
   ]
  },
  {
   "cell_type": "markdown",
   "metadata": {},
   "source": [
    "A nice feature is **\"partial string\" indexing**, where we can do implicit slicing by providing a partial datetime string.\n",
    "\n",
    "E.g. all data of 2006:"
   ]
  },
  {
   "cell_type": "code",
   "execution_count": 86,
   "metadata": {},
   "outputs": [
    {
     "data": {
      "text/plain": [
       "<matplotlib.axes._subplots.AxesSubplot at 0x7fc06861add8>"
      ]
     },
     "execution_count": 86,
     "metadata": {},
     "output_type": "execute_result"
    },
    {
     "data": {
      "image/png": "[encoded data removed]",
      "text/plain": [
       "<Figure size 432x288 with 1 Axes>"
      ]
     },
     "metadata": {
      "needs_background": "light"
     },
     "output_type": "display_data"
    }
   ],
   "source": [
    "data['2006'][\"P\"].plot()"
   ]
  },
  {
   "cell_type": "markdown",
   "metadata": {},
   "source": [
    "Or all data of January up to March 2007:"
   ]
  },
  {
   "cell_type": "code",
   "execution_count": 88,
   "metadata": {},
   "outputs": [
    {
     "data": {
      "text/plain": [
       "<matplotlib.axes._subplots.AxesSubplot at 0x7fc0685c8d30>"
      ]
     },
     "execution_count": 88,
     "metadata": {},
     "output_type": "execute_result"
    },
    {
     "data": {
      "image/png": "[encoded data removed]",
      "text/plain": [
       "<Figure size 432x288 with 1 Axes>"
      ]
     },
     "metadata": {
      "needs_background": "light"
     },
     "output_type": "display_data"
    }
   ],
   "source": [
    "data['2007-01':'2007-03'][\"P\"].plot()"
   ]
  },
  {
   "cell_type": "markdown",
   "metadata": {},
   "source": [
    "<div class=\"alert alert-success\">\n",
    "\n",
    "<b>Activity</b>:\n",
    "\n",
    " <ul>\n",
    "  <li>select all data in January for all different years</li>\n",
    "</ul>\n",
    "</div>"
   ]
  },
  {
   "cell_type": "code",
   "execution_count": 90,
   "metadata": {},
   "outputs": [
    {
     "data": {
      "text/html": [
       "<div>\n",
       "<style scoped>\n",
       "    .dataframe tbody tr th:only-of-type {\n",
       "        vertical-align: middle;\n",
       "    }\n",
       "\n",
       "    .dataframe tbody tr th {\n",
       "        vertical-align: top;\n",
       "    }\n",
       "\n",
       "    .dataframe thead th {\n",
       "        text-align: right;\n",
       "    }\n",
       "</style>\n",
       "<table border=\"1\" class=\"dataframe\">\n",
       "  <thead>\n",
       "    <tr style=\"text-align: right;\">\n",
       "      <th></th>\n",
       "      <th>P</th>\n",
       "      <th>S</th>\n",
       "      <th>V</th>\n",
       "      <th>I</th>\n",
       "      <th>Sub_metering_1</th>\n",
       "      <th>Sub_metering_2</th>\n",
       "      <th>Sub_metering_3</th>\n",
       "    </tr>\n",
       "    <tr>\n",
       "      <th>datetime</th>\n",
       "      <th></th>\n",
       "      <th></th>\n",
       "      <th></th>\n",
       "      <th></th>\n",
       "      <th></th>\n",
       "      <th></th>\n",
       "      <th></th>\n",
       "    </tr>\n",
       "  </thead>\n",
       "  <tbody>\n",
       "    <tr>\n",
       "      <th>2007-01-01 00:00:00</th>\n",
       "      <td>2.580</td>\n",
       "      <td>0.136</td>\n",
       "      <td>241.97</td>\n",
       "      <td>10.6</td>\n",
       "      <td>0.0</td>\n",
       "      <td>0.000</td>\n",
       "      <td>0.0</td>\n",
       "    </tr>\n",
       "    <tr>\n",
       "      <th>2007-01-01 00:01:00</th>\n",
       "      <td>2.552</td>\n",
       "      <td>0.100</td>\n",
       "      <td>241.75</td>\n",
       "      <td>10.4</td>\n",
       "      <td>0.0</td>\n",
       "      <td>0.000</td>\n",
       "      <td>0.0</td>\n",
       "    </tr>\n",
       "    <tr>\n",
       "      <th>2007-01-01 00:02:00</th>\n",
       "      <td>2.550</td>\n",
       "      <td>0.100</td>\n",
       "      <td>241.64</td>\n",
       "      <td>10.4</td>\n",
       "      <td>0.0</td>\n",
       "      <td>0.000</td>\n",
       "      <td>0.0</td>\n",
       "    </tr>\n",
       "    <tr>\n",
       "      <th>2007-01-01 00:03:00</th>\n",
       "      <td>2.550</td>\n",
       "      <td>0.100</td>\n",
       "      <td>241.71</td>\n",
       "      <td>10.4</td>\n",
       "      <td>0.0</td>\n",
       "      <td>0.000</td>\n",
       "      <td>0.0</td>\n",
       "    </tr>\n",
       "    <tr>\n",
       "      <th>2007-01-01 00:04:00</th>\n",
       "      <td>2.554</td>\n",
       "      <td>0.100</td>\n",
       "      <td>241.98</td>\n",
       "      <td>10.4</td>\n",
       "      <td>0.0</td>\n",
       "      <td>0.000</td>\n",
       "      <td>0.0</td>\n",
       "    </tr>\n",
       "    <tr>\n",
       "      <th>2007-01-01 00:05:00</th>\n",
       "      <td>2.550</td>\n",
       "      <td>0.100</td>\n",
       "      <td>241.83</td>\n",
       "      <td>10.4</td>\n",
       "      <td>0.0</td>\n",
       "      <td>0.000</td>\n",
       "      <td>0.0</td>\n",
       "    </tr>\n",
       "    <tr>\n",
       "      <th>2007-01-01 00:06:00</th>\n",
       "      <td>2.534</td>\n",
       "      <td>0.096</td>\n",
       "      <td>241.07</td>\n",
       "      <td>10.4</td>\n",
       "      <td>0.0</td>\n",
       "      <td>0.000</td>\n",
       "      <td>0.0</td>\n",
       "    </tr>\n",
       "    <tr>\n",
       "      <th>2007-01-01 00:07:00</th>\n",
       "      <td>2.484</td>\n",
       "      <td>0.000</td>\n",
       "      <td>241.29</td>\n",
       "      <td>10.2</td>\n",
       "      <td>0.0</td>\n",
       "      <td>0.000</td>\n",
       "      <td>0.0</td>\n",
       "    </tr>\n",
       "    <tr>\n",
       "      <th>2007-01-01 00:08:00</th>\n",
       "      <td>2.468</td>\n",
       "      <td>0.000</td>\n",
       "      <td>241.23</td>\n",
       "      <td>10.2</td>\n",
       "      <td>0.0</td>\n",
       "      <td>0.000</td>\n",
       "      <td>0.0</td>\n",
       "    </tr>\n",
       "    <tr>\n",
       "      <th>2007-01-01 00:09:00</th>\n",
       "      <td>2.486</td>\n",
       "      <td>0.000</td>\n",
       "      <td>242.18</td>\n",
       "      <td>10.2</td>\n",
       "      <td>0.0</td>\n",
       "      <td>0.000</td>\n",
       "      <td>0.0</td>\n",
       "    </tr>\n",
       "    <tr>\n",
       "      <th>2007-01-01 00:10:00</th>\n",
       "      <td>2.492</td>\n",
       "      <td>0.000</td>\n",
       "      <td>242.46</td>\n",
       "      <td>10.2</td>\n",
       "      <td>0.0</td>\n",
       "      <td>0.000</td>\n",
       "      <td>0.0</td>\n",
       "    </tr>\n",
       "    <tr>\n",
       "      <th>2007-01-01 00:11:00</th>\n",
       "      <td>2.500</td>\n",
       "      <td>0.000</td>\n",
       "      <td>242.88</td>\n",
       "      <td>10.2</td>\n",
       "      <td>0.0</td>\n",
       "      <td>0.000</td>\n",
       "      <td>0.0</td>\n",
       "    </tr>\n",
       "    <tr>\n",
       "      <th>2007-01-01 00:12:00</th>\n",
       "      <td>2.494</td>\n",
       "      <td>0.000</td>\n",
       "      <td>242.57</td>\n",
       "      <td>10.2</td>\n",
       "      <td>0.0</td>\n",
       "      <td>0.000</td>\n",
       "      <td>0.0</td>\n",
       "    </tr>\n",
       "    <tr>\n",
       "      <th>2007-01-01 00:13:00</th>\n",
       "      <td>2.492</td>\n",
       "      <td>0.000</td>\n",
       "      <td>242.41</td>\n",
       "      <td>10.2</td>\n",
       "      <td>0.0</td>\n",
       "      <td>0.000</td>\n",
       "      <td>0.0</td>\n",
       "    </tr>\n",
       "    <tr>\n",
       "      <th>2007-01-01 00:14:00</th>\n",
       "      <td>2.480</td>\n",
       "      <td>0.000</td>\n",
       "      <td>241.81</td>\n",
       "      <td>10.2</td>\n",
       "      <td>0.0</td>\n",
       "      <td>0.000</td>\n",
       "      <td>0.0</td>\n",
       "    </tr>\n",
       "    <tr>\n",
       "      <th>2007-01-01 00:15:00</th>\n",
       "      <td>2.478</td>\n",
       "      <td>0.000</td>\n",
       "      <td>241.73</td>\n",
       "      <td>10.2</td>\n",
       "      <td>0.0</td>\n",
       "      <td>0.000</td>\n",
       "      <td>0.0</td>\n",
       "    </tr>\n",
       "    <tr>\n",
       "      <th>2007-01-01 00:16:00</th>\n",
       "      <td>2.470</td>\n",
       "      <td>0.000</td>\n",
       "      <td>241.29</td>\n",
       "      <td>10.2</td>\n",
       "      <td>0.0</td>\n",
       "      <td>0.000</td>\n",
       "      <td>0.0</td>\n",
       "    </tr>\n",
       "    <tr>\n",
       "      <th>2007-01-01 00:17:00</th>\n",
       "      <td>2.466</td>\n",
       "      <td>0.000</td>\n",
       "      <td>241.11</td>\n",
       "      <td>10.2</td>\n",
       "      <td>0.0</td>\n",
       "      <td>0.000</td>\n",
       "      <td>0.0</td>\n",
       "    </tr>\n",
       "    <tr>\n",
       "      <th>2007-01-01 00:18:00</th>\n",
       "      <td>2.456</td>\n",
       "      <td>0.000</td>\n",
       "      <td>240.59</td>\n",
       "      <td>10.2</td>\n",
       "      <td>0.0</td>\n",
       "      <td>0.000</td>\n",
       "      <td>0.0</td>\n",
       "    </tr>\n",
       "    <tr>\n",
       "      <th>2007-01-01 00:19:00</th>\n",
       "      <td>2.460</td>\n",
       "      <td>0.000</td>\n",
       "      <td>240.83</td>\n",
       "      <td>10.2</td>\n",
       "      <td>0.0</td>\n",
       "      <td>0.000</td>\n",
       "      <td>0.0</td>\n",
       "    </tr>\n",
       "    <tr>\n",
       "      <th>2007-01-01 00:20:00</th>\n",
       "      <td>2.544</td>\n",
       "      <td>0.092</td>\n",
       "      <td>240.90</td>\n",
       "      <td>10.6</td>\n",
       "      <td>0.0</td>\n",
       "      <td>0.000</td>\n",
       "      <td>0.0</td>\n",
       "    </tr>\n",
       "    <tr>\n",
       "      <th>2007-01-01 00:21:00</th>\n",
       "      <td>2.550</td>\n",
       "      <td>0.116</td>\n",
       "      <td>241.15</td>\n",
       "      <td>10.4</td>\n",
       "      <td>0.0</td>\n",
       "      <td>1.000</td>\n",
       "      <td>0.0</td>\n",
       "    </tr>\n",
       "    <tr>\n",
       "      <th>2007-01-01 00:22:00</th>\n",
       "      <td>2.554</td>\n",
       "      <td>0.118</td>\n",
       "      <td>241.55</td>\n",
       "      <td>10.6</td>\n",
       "      <td>0.0</td>\n",
       "      <td>1.000</td>\n",
       "      <td>0.0</td>\n",
       "    </tr>\n",
       "    <tr>\n",
       "      <th>2007-01-01 00:23:00</th>\n",
       "      <td>2.650</td>\n",
       "      <td>0.218</td>\n",
       "      <td>241.67</td>\n",
       "      <td>11.0</td>\n",
       "      <td>0.0</td>\n",
       "      <td>2.000</td>\n",
       "      <td>0.0</td>\n",
       "    </tr>\n",
       "    <tr>\n",
       "      <th>2007-01-01 00:24:00</th>\n",
       "      <td>2.682</td>\n",
       "      <td>0.258</td>\n",
       "      <td>242.45</td>\n",
       "      <td>11.0</td>\n",
       "      <td>0.0</td>\n",
       "      <td>1.000</td>\n",
       "      <td>0.0</td>\n",
       "    </tr>\n",
       "    <tr>\n",
       "      <th>2007-01-01 00:25:00</th>\n",
       "      <td>2.660</td>\n",
       "      <td>0.252</td>\n",
       "      <td>241.60</td>\n",
       "      <td>11.0</td>\n",
       "      <td>0.0</td>\n",
       "      <td>1.000</td>\n",
       "      <td>0.0</td>\n",
       "    </tr>\n",
       "    <tr>\n",
       "      <th>2007-01-01 00:26:00</th>\n",
       "      <td>2.650</td>\n",
       "      <td>0.250</td>\n",
       "      <td>241.14</td>\n",
       "      <td>11.0</td>\n",
       "      <td>0.0</td>\n",
       "      <td>2.000</td>\n",
       "      <td>0.0</td>\n",
       "    </tr>\n",
       "    <tr>\n",
       "      <th>2007-01-01 00:27:00</th>\n",
       "      <td>2.654</td>\n",
       "      <td>0.250</td>\n",
       "      <td>241.38</td>\n",
       "      <td>11.0</td>\n",
       "      <td>0.0</td>\n",
       "      <td>1.000</td>\n",
       "      <td>0.0</td>\n",
       "    </tr>\n",
       "    <tr>\n",
       "      <th>2007-01-01 00:28:00</th>\n",
       "      <td>2.642</td>\n",
       "      <td>0.248</td>\n",
       "      <td>240.90</td>\n",
       "      <td>11.0</td>\n",
       "      <td>0.0</td>\n",
       "      <td>2.000</td>\n",
       "      <td>0.0</td>\n",
       "    </tr>\n",
       "    <tr>\n",
       "      <th>2007-01-01 00:29:00</th>\n",
       "      <td>2.644</td>\n",
       "      <td>0.250</td>\n",
       "      <td>241.15</td>\n",
       "      <td>11.0</td>\n",
       "      <td>0.0</td>\n",
       "      <td>1.000</td>\n",
       "      <td>0.0</td>\n",
       "    </tr>\n",
       "    <tr>\n",
       "      <th>...</th>\n",
       "      <td>...</td>\n",
       "      <td>...</td>\n",
       "      <td>...</td>\n",
       "      <td>...</td>\n",
       "      <td>...</td>\n",
       "      <td>...</td>\n",
       "      <td>...</td>\n",
       "    </tr>\n",
       "    <tr>\n",
       "      <th>2010-01-11 23:30:00</th>\n",
       "      <td>1.404</td>\n",
       "      <td>0.078</td>\n",
       "      <td>250.41</td>\n",
       "      <td>5.6</td>\n",
       "      <td>0.0</td>\n",
       "      <td>0.000</td>\n",
       "      <td>0.0</td>\n",
       "    </tr>\n",
       "    <tr>\n",
       "      <th>2010-01-11 23:31:00</th>\n",
       "      <td>1.404</td>\n",
       "      <td>0.082</td>\n",
       "      <td>250.90</td>\n",
       "      <td>5.6</td>\n",
       "      <td>0.0</td>\n",
       "      <td>0.000</td>\n",
       "      <td>1.0</td>\n",
       "    </tr>\n",
       "    <tr>\n",
       "      <th>2010-01-11 23:32:00</th>\n",
       "      <td>1.404</td>\n",
       "      <td>0.082</td>\n",
       "      <td>251.25</td>\n",
       "      <td>5.6</td>\n",
       "      <td>0.0</td>\n",
       "      <td>0.000</td>\n",
       "      <td>1.0</td>\n",
       "    </tr>\n",
       "    <tr>\n",
       "      <th>2010-01-11 23:33:00</th>\n",
       "      <td>1.404</td>\n",
       "      <td>0.082</td>\n",
       "      <td>251.36</td>\n",
       "      <td>5.6</td>\n",
       "      <td>0.0</td>\n",
       "      <td>0.000</td>\n",
       "      <td>0.0</td>\n",
       "    </tr>\n",
       "    <tr>\n",
       "      <th>2010-01-11 23:34:00</th>\n",
       "      <td>1.398</td>\n",
       "      <td>0.084</td>\n",
       "      <td>251.31</td>\n",
       "      <td>5.6</td>\n",
       "      <td>0.0</td>\n",
       "      <td>0.000</td>\n",
       "      <td>1.0</td>\n",
       "    </tr>\n",
       "    <tr>\n",
       "      <th>2010-01-11 23:35:00</th>\n",
       "      <td>1.394</td>\n",
       "      <td>0.082</td>\n",
       "      <td>251.14</td>\n",
       "      <td>5.6</td>\n",
       "      <td>0.0</td>\n",
       "      <td>0.000</td>\n",
       "      <td>1.0</td>\n",
       "    </tr>\n",
       "    <tr>\n",
       "      <th>2010-01-11 23:36:00</th>\n",
       "      <td>1.396</td>\n",
       "      <td>0.082</td>\n",
       "      <td>250.96</td>\n",
       "      <td>5.6</td>\n",
       "      <td>0.0</td>\n",
       "      <td>0.000</td>\n",
       "      <td>0.0</td>\n",
       "    </tr>\n",
       "    <tr>\n",
       "      <th>2010-01-11 23:37:00</th>\n",
       "      <td>1.392</td>\n",
       "      <td>0.082</td>\n",
       "      <td>250.91</td>\n",
       "      <td>5.6</td>\n",
       "      <td>0.0</td>\n",
       "      <td>0.000</td>\n",
       "      <td>1.0</td>\n",
       "    </tr>\n",
       "    <tr>\n",
       "      <th>2010-01-11 23:38:00</th>\n",
       "      <td>1.392</td>\n",
       "      <td>0.084</td>\n",
       "      <td>251.29</td>\n",
       "      <td>5.6</td>\n",
       "      <td>0.0</td>\n",
       "      <td>0.000</td>\n",
       "      <td>1.0</td>\n",
       "    </tr>\n",
       "    <tr>\n",
       "      <th>2010-01-11 23:39:00</th>\n",
       "      <td>1.396</td>\n",
       "      <td>0.086</td>\n",
       "      <td>251.72</td>\n",
       "      <td>5.6</td>\n",
       "      <td>0.0</td>\n",
       "      <td>0.000</td>\n",
       "      <td>1.0</td>\n",
       "    </tr>\n",
       "    <tr>\n",
       "      <th>2010-01-11 23:40:00</th>\n",
       "      <td>1.386</td>\n",
       "      <td>0.094</td>\n",
       "      <td>252.59</td>\n",
       "      <td>5.6</td>\n",
       "      <td>0.0</td>\n",
       "      <td>0.000</td>\n",
       "      <td>0.0</td>\n",
       "    </tr>\n",
       "    <tr>\n",
       "      <th>2010-01-11 23:41:00</th>\n",
       "      <td>1.434</td>\n",
       "      <td>0.112</td>\n",
       "      <td>252.34</td>\n",
       "      <td>5.8</td>\n",
       "      <td>0.0</td>\n",
       "      <td>0.000</td>\n",
       "      <td>1.0</td>\n",
       "    </tr>\n",
       "    <tr>\n",
       "      <th>2010-01-11 23:42:00</th>\n",
       "      <td>1.474</td>\n",
       "      <td>0.204</td>\n",
       "      <td>252.30</td>\n",
       "      <td>5.8</td>\n",
       "      <td>0.0</td>\n",
       "      <td>0.000</td>\n",
       "      <td>1.0</td>\n",
       "    </tr>\n",
       "    <tr>\n",
       "      <th>2010-01-11 23:43:00</th>\n",
       "      <td>1.446</td>\n",
       "      <td>0.162</td>\n",
       "      <td>252.13</td>\n",
       "      <td>5.8</td>\n",
       "      <td>0.0</td>\n",
       "      <td>0.000</td>\n",
       "      <td>0.0</td>\n",
       "    </tr>\n",
       "    <tr>\n",
       "      <th>2010-01-11 23:44:00</th>\n",
       "      <td>1.754</td>\n",
       "      <td>0.000</td>\n",
       "      <td>251.36</td>\n",
       "      <td>7.0</td>\n",
       "      <td>0.0</td>\n",
       "      <td>0.000</td>\n",
       "      <td>1.0</td>\n",
       "    </tr>\n",
       "    <tr>\n",
       "      <th>2010-01-11 23:45:00</th>\n",
       "      <td>1.880</td>\n",
       "      <td>0.000</td>\n",
       "      <td>251.41</td>\n",
       "      <td>7.4</td>\n",
       "      <td>0.0</td>\n",
       "      <td>0.000</td>\n",
       "      <td>1.0</td>\n",
       "    </tr>\n",
       "    <tr>\n",
       "      <th>2010-01-11 23:46:00</th>\n",
       "      <td>1.882</td>\n",
       "      <td>0.000</td>\n",
       "      <td>251.72</td>\n",
       "      <td>7.4</td>\n",
       "      <td>0.0</td>\n",
       "      <td>0.000</td>\n",
       "      <td>1.0</td>\n",
       "    </tr>\n",
       "    <tr>\n",
       "      <th>2010-01-11 23:47:00</th>\n",
       "      <td>1.884</td>\n",
       "      <td>0.000</td>\n",
       "      <td>252.06</td>\n",
       "      <td>7.4</td>\n",
       "      <td>0.0</td>\n",
       "      <td>0.000</td>\n",
       "      <td>0.0</td>\n",
       "    </tr>\n",
       "    <tr>\n",
       "      <th>2010-01-11 23:48:00</th>\n",
       "      <td>1.884</td>\n",
       "      <td>0.000</td>\n",
       "      <td>252.14</td>\n",
       "      <td>7.4</td>\n",
       "      <td>0.0</td>\n",
       "      <td>0.000</td>\n",
       "      <td>1.0</td>\n",
       "    </tr>\n",
       "    <tr>\n",
       "      <th>2010-01-11 23:49:00</th>\n",
       "      <td>1.836</td>\n",
       "      <td>0.000</td>\n",
       "      <td>251.85</td>\n",
       "      <td>7.2</td>\n",
       "      <td>0.0</td>\n",
       "      <td>0.000</td>\n",
       "      <td>1.0</td>\n",
       "    </tr>\n",
       "    <tr>\n",
       "      <th>2010-01-11 23:50:00</th>\n",
       "      <td>1.808</td>\n",
       "      <td>0.068</td>\n",
       "      <td>251.83</td>\n",
       "      <td>7.2</td>\n",
       "      <td>0.0</td>\n",
       "      <td>0.000</td>\n",
       "      <td>0.0</td>\n",
       "    </tr>\n",
       "    <tr>\n",
       "      <th>2010-01-11 23:51:00</th>\n",
       "      <td>1.792</td>\n",
       "      <td>0.072</td>\n",
       "      <td>250.52</td>\n",
       "      <td>7.2</td>\n",
       "      <td>0.0</td>\n",
       "      <td>0.000</td>\n",
       "      <td>1.0</td>\n",
       "    </tr>\n",
       "    <tr>\n",
       "      <th>2010-01-11 23:52:00</th>\n",
       "      <td>1.790</td>\n",
       "      <td>0.072</td>\n",
       "      <td>250.25</td>\n",
       "      <td>7.2</td>\n",
       "      <td>0.0</td>\n",
       "      <td>0.000</td>\n",
       "      <td>1.0</td>\n",
       "    </tr>\n",
       "    <tr>\n",
       "      <th>2010-01-11 23:53:00</th>\n",
       "      <td>1.792</td>\n",
       "      <td>0.072</td>\n",
       "      <td>250.47</td>\n",
       "      <td>7.2</td>\n",
       "      <td>0.0</td>\n",
       "      <td>0.000</td>\n",
       "      <td>0.0</td>\n",
       "    </tr>\n",
       "    <tr>\n",
       "      <th>2010-01-11 23:54:00</th>\n",
       "      <td>1.790</td>\n",
       "      <td>0.074</td>\n",
       "      <td>250.26</td>\n",
       "      <td>7.2</td>\n",
       "      <td>0.0</td>\n",
       "      <td>0.000</td>\n",
       "      <td>1.0</td>\n",
       "    </tr>\n",
       "    <tr>\n",
       "      <th>2010-01-11 23:55:00</th>\n",
       "      <td>1.780</td>\n",
       "      <td>0.076</td>\n",
       "      <td>249.52</td>\n",
       "      <td>7.2</td>\n",
       "      <td>0.0</td>\n",
       "      <td>0.000</td>\n",
       "      <td>1.0</td>\n",
       "    </tr>\n",
       "    <tr>\n",
       "      <th>2010-01-11 23:56:00</th>\n",
       "      <td>1.782</td>\n",
       "      <td>0.074</td>\n",
       "      <td>249.49</td>\n",
       "      <td>7.2</td>\n",
       "      <td>0.0</td>\n",
       "      <td>0.000</td>\n",
       "      <td>1.0</td>\n",
       "    </tr>\n",
       "    <tr>\n",
       "      <th>2010-01-11 23:57:00</th>\n",
       "      <td>1.530</td>\n",
       "      <td>0.070</td>\n",
       "      <td>249.45</td>\n",
       "      <td>6.2</td>\n",
       "      <td>0.0</td>\n",
       "      <td>0.000</td>\n",
       "      <td>0.0</td>\n",
       "    </tr>\n",
       "    <tr>\n",
       "      <th>2010-01-11 23:58:00</th>\n",
       "      <td>1.280</td>\n",
       "      <td>0.068</td>\n",
       "      <td>249.91</td>\n",
       "      <td>5.2</td>\n",
       "      <td>0.0</td>\n",
       "      <td>0.000</td>\n",
       "      <td>1.0</td>\n",
       "    </tr>\n",
       "    <tr>\n",
       "      <th>2010-01-11 23:59:00</th>\n",
       "      <td>1.270</td>\n",
       "      <td>0.070</td>\n",
       "      <td>249.27</td>\n",
       "      <td>5.2</td>\n",
       "      <td>0.0</td>\n",
       "      <td>0.000</td>\n",
       "      <td>1.0</td>\n",
       "    </tr>\n",
       "  </tbody>\n",
       "</table>\n",
       "<p>177120 rows × 7 columns</p>\n",
       "</div>"
      ],
      "text/plain": [
       "                         P      S       V     I  Sub_metering_1  \\\n",
       "datetime                                                          \n",
       "2007-01-01 00:00:00  2.580  0.136  241.97  10.6             0.0   \n",
       "2007-01-01 00:01:00  2.552  0.100  241.75  10.4             0.0   \n",
       "2007-01-01 00:02:00  2.550  0.100  241.64  10.4             0.0   \n",
       "2007-01-01 00:03:00  2.550  0.100  241.71  10.4             0.0   \n",
       "2007-01-01 00:04:00  2.554  0.100  241.98  10.4             0.0   \n",
       "2007-01-01 00:05:00  2.550  0.100  241.83  10.4             0.0   \n",
       "2007-01-01 00:06:00  2.534  0.096  241.07  10.4             0.0   \n",
       "2007-01-01 00:07:00  2.484  0.000  241.29  10.2             0.0   \n",
       "2007-01-01 00:08:00  2.468  0.000  241.23  10.2             0.0   \n",
       "2007-01-01 00:09:00  2.486  0.000  242.18  10.2             0.0   \n",
       "2007-01-01 00:10:00  2.492  0.000  242.46  10.2             0.0   \n",
       "2007-01-01 00:11:00  2.500  0.000  242.88  10.2             0.0   \n",
       "2007-01-01 00:12:00  2.494  0.000  242.57  10.2             0.0   \n",
       "2007-01-01 00:13:00  2.492  0.000  242.41  10.2             0.0   \n",
       "2007-01-01 00:14:00  2.480  0.000  241.81  10.2             0.0   \n",
       "2007-01-01 00:15:00  2.478  0.000  241.73  10.2             0.0   \n",
       "2007-01-01 00:16:00  2.470  0.000  241.29  10.2             0.0   \n",
       "2007-01-01 00:17:00  2.466  0.000  241.11  10.2             0.0   \n",
       "2007-01-01 00:18:00  2.456  0.000  240.59  10.2             0.0   \n",
       "2007-01-01 00:19:00  2.460  0.000  240.83  10.2             0.0   \n",
       "2007-01-01 00:20:00  2.544  0.092  240.90  10.6             0.0   \n",
       "2007-01-01 00:21:00  2.550  0.116  241.15  10.4             0.0   \n",
       "2007-01-01 00:22:00  2.554  0.118  241.55  10.6             0.0   \n",
       "2007-01-01 00:23:00  2.650  0.218  241.67  11.0             0.0   \n",
       "2007-01-01 00:24:00  2.682  0.258  242.45  11.0             0.0   \n",
       "2007-01-01 00:25:00  2.660  0.252  241.60  11.0             0.0   \n",
       "2007-01-01 00:26:00  2.650  0.250  241.14  11.0             0.0   \n",
       "2007-01-01 00:27:00  2.654  0.250  241.38  11.0             0.0   \n",
       "2007-01-01 00:28:00  2.642  0.248  240.90  11.0             0.0   \n",
       "2007-01-01 00:29:00  2.644  0.250  241.15  11.0             0.0   \n",
       "...                    ...    ...     ...   ...             ...   \n",
       "2010-01-11 23:30:00  1.404  0.078  250.41   5.6             0.0   \n",
       "2010-01-11 23:31:00  1.404  0.082  250.90   5.6             0.0   \n",
       "2010-01-11 23:32:00  1.404  0.082  251.25   5.6             0.0   \n",
       "2010-01-11 23:33:00  1.404  0.082  251.36   5.6             0.0   \n",
       "2010-01-11 23:34:00  1.398  0.084  251.31   5.6             0.0   \n",
       "2010-01-11 23:35:00  1.394  0.082  251.14   5.6             0.0   \n",
       "2010-01-11 23:36:00  1.396  0.082  250.96   5.6             0.0   \n",
       "2010-01-11 23:37:00  1.392  0.082  250.91   5.6             0.0   \n",
       "2010-01-11 23:38:00  1.392  0.084  251.29   5.6             0.0   \n",
       "2010-01-11 23:39:00  1.396  0.086  251.72   5.6             0.0   \n",
       "2010-01-11 23:40:00  1.386  0.094  252.59   5.6             0.0   \n",
       "2010-01-11 23:41:00  1.434  0.112  252.34   5.8             0.0   \n",
       "2010-01-11 23:42:00  1.474  0.204  252.30   5.8             0.0   \n",
       "2010-01-11 23:43:00  1.446  0.162  252.13   5.8             0.0   \n",
       "2010-01-11 23:44:00  1.754  0.000  251.36   7.0             0.0   \n",
       "2010-01-11 23:45:00  1.880  0.000  251.41   7.4             0.0   \n",
       "2010-01-11 23:46:00  1.882  0.000  251.72   7.4             0.0   \n",
       "2010-01-11 23:47:00  1.884  0.000  252.06   7.4             0.0   \n",
       "2010-01-11 23:48:00  1.884  0.000  252.14   7.4             0.0   \n",
       "2010-01-11 23:49:00  1.836  0.000  251.85   7.2             0.0   \n",
       "2010-01-11 23:50:00  1.808  0.068  251.83   7.2             0.0   \n",
       "2010-01-11 23:51:00  1.792  0.072  250.52   7.2             0.0   \n",
       "2010-01-11 23:52:00  1.790  0.072  250.25   7.2             0.0   \n",
       "2010-01-11 23:53:00  1.792  0.072  250.47   7.2             0.0   \n",
       "2010-01-11 23:54:00  1.790  0.074  250.26   7.2             0.0   \n",
       "2010-01-11 23:55:00  1.780  0.076  249.52   7.2             0.0   \n",
       "2010-01-11 23:56:00  1.782  0.074  249.49   7.2             0.0   \n",
       "2010-01-11 23:57:00  1.530  0.070  249.45   6.2             0.0   \n",
       "2010-01-11 23:58:00  1.280  0.068  249.91   5.2             0.0   \n",
       "2010-01-11 23:59:00  1.270  0.070  249.27   5.2             0.0   \n",
       "\n",
       "                    Sub_metering_2  Sub_metering_3  \n",
       "datetime                                            \n",
       "2007-01-01 00:00:00          0.000             0.0  \n",
       "2007-01-01 00:01:00          0.000             0.0  \n",
       "2007-01-01 00:02:00          0.000             0.0  \n",
       "2007-01-01 00:03:00          0.000             0.0  \n",
       "2007-01-01 00:04:00          0.000             0.0  \n",
       "2007-01-01 00:05:00          0.000             0.0  \n",
       "2007-01-01 00:06:00          0.000             0.0  \n",
       "2007-01-01 00:07:00          0.000             0.0  \n",
       "2007-01-01 00:08:00          0.000             0.0  \n",
       "2007-01-01 00:09:00          0.000             0.0  \n",
       "2007-01-01 00:10:00          0.000             0.0  \n",
       "2007-01-01 00:11:00          0.000             0.0  \n",
       "2007-01-01 00:12:00          0.000             0.0  \n",
       "2007-01-01 00:13:00          0.000             0.0  \n",
       "2007-01-01 00:14:00          0.000             0.0  \n",
       "2007-01-01 00:15:00          0.000             0.0  \n",
       "2007-01-01 00:16:00          0.000             0.0  \n",
       "2007-01-01 00:17:00          0.000             0.0  \n",
       "2007-01-01 00:18:00          0.000             0.0  \n",
       "2007-01-01 00:19:00          0.000             0.0  \n",
       "2007-01-01 00:20:00          0.000             0.0  \n",
       "2007-01-01 00:21:00          1.000             0.0  \n",
       "2007-01-01 00:22:00          1.000             0.0  \n",
       "2007-01-01 00:23:00          2.000             0.0  \n",
       "2007-01-01 00:24:00          1.000             0.0  \n",
       "2007-01-01 00:25:00          1.000             0.0  \n",
       "2007-01-01 00:26:00          2.000             0.0  \n",
       "2007-01-01 00:27:00          1.000             0.0  \n",
       "2007-01-01 00:28:00          2.000             0.0  \n",
       "2007-01-01 00:29:00          1.000             0.0  \n",
       "...                            ...             ...  \n",
       "2010-01-11 23:30:00          0.000             0.0  \n",
       "2010-01-11 23:31:00          0.000             1.0  \n",
       "2010-01-11 23:32:00          0.000             1.0  \n",
       "2010-01-11 23:33:00          0.000             0.0  \n",
       "2010-01-11 23:34:00          0.000             1.0  \n",
       "2010-01-11 23:35:00          0.000             1.0  \n",
       "2010-01-11 23:36:00          0.000             0.0  \n",
       "2010-01-11 23:37:00          0.000             1.0  \n",
       "2010-01-11 23:38:00          0.000             1.0  \n",
       "2010-01-11 23:39:00          0.000             1.0  \n",
       "2010-01-11 23:40:00          0.000             0.0  \n",
       "2010-01-11 23:41:00          0.000             1.0  \n",
       "2010-01-11 23:42:00          0.000             1.0  \n",
       "2010-01-11 23:43:00          0.000             0.0  \n",
       "2010-01-11 23:44:00          0.000             1.0  \n",
       "2010-01-11 23:45:00          0.000             1.0  \n",
       "2010-01-11 23:46:00          0.000             1.0  \n",
       "2010-01-11 23:47:00          0.000             0.0  \n",
       "2010-01-11 23:48:00          0.000             1.0  \n",
       "2010-01-11 23:49:00          0.000             1.0  \n",
       "2010-01-11 23:50:00          0.000             0.0  \n",
       "2010-01-11 23:51:00          0.000             1.0  \n",
       "2010-01-11 23:52:00          0.000             1.0  \n",
       "2010-01-11 23:53:00          0.000             0.0  \n",
       "2010-01-11 23:54:00          0.000             1.0  \n",
       "2010-01-11 23:55:00          0.000             1.0  \n",
       "2010-01-11 23:56:00          0.000             1.0  \n",
       "2010-01-11 23:57:00          0.000             0.0  \n",
       "2010-01-11 23:58:00          0.000             1.0  \n",
       "2010-01-11 23:59:00          0.000             1.0  \n",
       "\n",
       "[177120 rows x 7 columns]"
      ]
     },
     "execution_count": 90,
     "metadata": {},
     "output_type": "execute_result"
    }
   ],
   "source": [
    "data[data.index.month == 1]"
   ]
  },
  {
   "cell_type": "markdown",
   "metadata": {},
   "source": [
    "<div class=\"alert alert-success\">\n",
    "\n",
    "<b>Activity</b>:\n",
    "\n",
    " <ul>\n",
    "  <li>select all data in April, May and June for all different years</li>\n",
    "</ul>\n",
    "</div>"
   ]
  },
  {
   "cell_type": "code",
   "execution_count": 91,
   "metadata": {},
   "outputs": [
    {
     "data": {
      "text/html": [
       "<div>\n",
       "<style scoped>\n",
       "    .dataframe tbody tr th:only-of-type {\n",
       "        vertical-align: middle;\n",
       "    }\n",
       "\n",
       "    .dataframe tbody tr th {\n",
       "        vertical-align: top;\n",
       "    }\n",
       "\n",
       "    .dataframe thead th {\n",
       "        text-align: right;\n",
       "    }\n",
       "</style>\n",
       "<table border=\"1\" class=\"dataframe\">\n",
       "  <thead>\n",
       "    <tr style=\"text-align: right;\">\n",
       "      <th></th>\n",
       "      <th>P</th>\n",
       "      <th>S</th>\n",
       "      <th>V</th>\n",
       "      <th>I</th>\n",
       "      <th>Sub_metering_1</th>\n",
       "      <th>Sub_metering_2</th>\n",
       "      <th>Sub_metering_3</th>\n",
       "    </tr>\n",
       "    <tr>\n",
       "      <th>datetime</th>\n",
       "      <th></th>\n",
       "      <th></th>\n",
       "      <th></th>\n",
       "      <th></th>\n",
       "      <th></th>\n",
       "      <th></th>\n",
       "      <th></th>\n",
       "    </tr>\n",
       "  </thead>\n",
       "  <tbody>\n",
       "    <tr>\n",
       "      <th>2007-04-01 00:00:00</th>\n",
       "      <td>0.850</td>\n",
       "      <td>0.046</td>\n",
       "      <td>242.61</td>\n",
       "      <td>3.6</td>\n",
       "      <td>0.0</td>\n",
       "      <td>0.000</td>\n",
       "      <td>0.0</td>\n",
       "    </tr>\n",
       "    <tr>\n",
       "      <th>2007-04-01 00:01:00</th>\n",
       "      <td>0.742</td>\n",
       "      <td>0.000</td>\n",
       "      <td>242.57</td>\n",
       "      <td>3.2</td>\n",
       "      <td>0.0</td>\n",
       "      <td>0.000</td>\n",
       "      <td>0.0</td>\n",
       "    </tr>\n",
       "    <tr>\n",
       "      <th>2007-04-01 00:02:00</th>\n",
       "      <td>0.906</td>\n",
       "      <td>0.000</td>\n",
       "      <td>243.35</td>\n",
       "      <td>3.8</td>\n",
       "      <td>0.0</td>\n",
       "      <td>0.000</td>\n",
       "      <td>0.0</td>\n",
       "    </tr>\n",
       "    <tr>\n",
       "      <th>2007-04-01 00:03:00</th>\n",
       "      <td>0.606</td>\n",
       "      <td>0.046</td>\n",
       "      <td>243.16</td>\n",
       "      <td>2.6</td>\n",
       "      <td>0.0</td>\n",
       "      <td>0.000</td>\n",
       "      <td>0.0</td>\n",
       "    </tr>\n",
       "    <tr>\n",
       "      <th>2007-04-01 00:04:00</th>\n",
       "      <td>0.538</td>\n",
       "      <td>0.046</td>\n",
       "      <td>243.29</td>\n",
       "      <td>2.2</td>\n",
       "      <td>0.0</td>\n",
       "      <td>0.000</td>\n",
       "      <td>0.0</td>\n",
       "    </tr>\n",
       "    <tr>\n",
       "      <th>2007-04-01 00:05:00</th>\n",
       "      <td>0.522</td>\n",
       "      <td>0.000</td>\n",
       "      <td>242.56</td>\n",
       "      <td>2.2</td>\n",
       "      <td>0.0</td>\n",
       "      <td>0.000</td>\n",
       "      <td>0.0</td>\n",
       "    </tr>\n",
       "    <tr>\n",
       "      <th>2007-04-01 00:06:00</th>\n",
       "      <td>0.550</td>\n",
       "      <td>0.000</td>\n",
       "      <td>243.01</td>\n",
       "      <td>2.2</td>\n",
       "      <td>0.0</td>\n",
       "      <td>0.000</td>\n",
       "      <td>0.0</td>\n",
       "    </tr>\n",
       "    <tr>\n",
       "      <th>2007-04-01 00:07:00</th>\n",
       "      <td>0.782</td>\n",
       "      <td>0.124</td>\n",
       "      <td>243.03</td>\n",
       "      <td>3.2</td>\n",
       "      <td>0.0</td>\n",
       "      <td>0.000</td>\n",
       "      <td>0.0</td>\n",
       "    </tr>\n",
       "    <tr>\n",
       "      <th>2007-04-01 00:08:00</th>\n",
       "      <td>1.486</td>\n",
       "      <td>0.138</td>\n",
       "      <td>241.64</td>\n",
       "      <td>6.2</td>\n",
       "      <td>0.0</td>\n",
       "      <td>0.000</td>\n",
       "      <td>0.0</td>\n",
       "    </tr>\n",
       "    <tr>\n",
       "      <th>2007-04-01 00:09:00</th>\n",
       "      <td>1.458</td>\n",
       "      <td>0.140</td>\n",
       "      <td>241.71</td>\n",
       "      <td>6.0</td>\n",
       "      <td>0.0</td>\n",
       "      <td>0.000</td>\n",
       "      <td>0.0</td>\n",
       "    </tr>\n",
       "    <tr>\n",
       "      <th>2007-04-01 00:10:00</th>\n",
       "      <td>1.462</td>\n",
       "      <td>0.142</td>\n",
       "      <td>242.29</td>\n",
       "      <td>6.0</td>\n",
       "      <td>0.0</td>\n",
       "      <td>0.000</td>\n",
       "      <td>0.0</td>\n",
       "    </tr>\n",
       "    <tr>\n",
       "      <th>2007-04-01 00:11:00</th>\n",
       "      <td>1.492</td>\n",
       "      <td>0.146</td>\n",
       "      <td>242.87</td>\n",
       "      <td>6.2</td>\n",
       "      <td>0.0</td>\n",
       "      <td>0.000</td>\n",
       "      <td>0.0</td>\n",
       "    </tr>\n",
       "    <tr>\n",
       "      <th>2007-04-01 00:12:00</th>\n",
       "      <td>1.604</td>\n",
       "      <td>0.142</td>\n",
       "      <td>242.40</td>\n",
       "      <td>6.6</td>\n",
       "      <td>0.0</td>\n",
       "      <td>0.000</td>\n",
       "      <td>0.0</td>\n",
       "    </tr>\n",
       "    <tr>\n",
       "      <th>2007-04-01 00:13:00</th>\n",
       "      <td>1.560</td>\n",
       "      <td>0.140</td>\n",
       "      <td>242.69</td>\n",
       "      <td>6.4</td>\n",
       "      <td>0.0</td>\n",
       "      <td>0.000</td>\n",
       "      <td>0.0</td>\n",
       "    </tr>\n",
       "    <tr>\n",
       "      <th>2007-04-01 00:14:00</th>\n",
       "      <td>1.420</td>\n",
       "      <td>0.124</td>\n",
       "      <td>242.64</td>\n",
       "      <td>5.8</td>\n",
       "      <td>0.0</td>\n",
       "      <td>0.000</td>\n",
       "      <td>0.0</td>\n",
       "    </tr>\n",
       "    <tr>\n",
       "      <th>2007-04-01 00:15:00</th>\n",
       "      <td>2.172</td>\n",
       "      <td>0.084</td>\n",
       "      <td>241.47</td>\n",
       "      <td>9.8</td>\n",
       "      <td>0.0</td>\n",
       "      <td>6.000</td>\n",
       "      <td>0.0</td>\n",
       "    </tr>\n",
       "    <tr>\n",
       "      <th>2007-04-01 00:16:00</th>\n",
       "      <td>4.010</td>\n",
       "      <td>0.090</td>\n",
       "      <td>240.43</td>\n",
       "      <td>16.6</td>\n",
       "      <td>0.0</td>\n",
       "      <td>39.000</td>\n",
       "      <td>0.0</td>\n",
       "    </tr>\n",
       "    <tr>\n",
       "      <th>2007-04-01 00:17:00</th>\n",
       "      <td>3.786</td>\n",
       "      <td>0.102</td>\n",
       "      <td>241.48</td>\n",
       "      <td>15.6</td>\n",
       "      <td>1.0</td>\n",
       "      <td>39.000</td>\n",
       "      <td>0.0</td>\n",
       "    </tr>\n",
       "    <tr>\n",
       "      <th>2007-04-01 00:18:00</th>\n",
       "      <td>4.572</td>\n",
       "      <td>0.102</td>\n",
       "      <td>241.33</td>\n",
       "      <td>19.4</td>\n",
       "      <td>1.0</td>\n",
       "      <td>39.000</td>\n",
       "      <td>0.0</td>\n",
       "    </tr>\n",
       "    <tr>\n",
       "      <th>2007-04-01 00:19:00</th>\n",
       "      <td>5.756</td>\n",
       "      <td>0.104</td>\n",
       "      <td>240.32</td>\n",
       "      <td>23.8</td>\n",
       "      <td>2.0</td>\n",
       "      <td>38.000</td>\n",
       "      <td>0.0</td>\n",
       "    </tr>\n",
       "    <tr>\n",
       "      <th>2007-04-01 00:20:00</th>\n",
       "      <td>5.886</td>\n",
       "      <td>0.108</td>\n",
       "      <td>240.34</td>\n",
       "      <td>24.4</td>\n",
       "      <td>1.0</td>\n",
       "      <td>39.000</td>\n",
       "      <td>0.0</td>\n",
       "    </tr>\n",
       "    <tr>\n",
       "      <th>2007-04-01 00:21:00</th>\n",
       "      <td>5.922</td>\n",
       "      <td>0.110</td>\n",
       "      <td>240.21</td>\n",
       "      <td>24.6</td>\n",
       "      <td>1.0</td>\n",
       "      <td>39.000</td>\n",
       "      <td>0.0</td>\n",
       "    </tr>\n",
       "    <tr>\n",
       "      <th>2007-04-01 00:22:00</th>\n",
       "      <td>5.850</td>\n",
       "      <td>0.110</td>\n",
       "      <td>239.87</td>\n",
       "      <td>24.4</td>\n",
       "      <td>1.0</td>\n",
       "      <td>39.000</td>\n",
       "      <td>0.0</td>\n",
       "    </tr>\n",
       "    <tr>\n",
       "      <th>2007-04-01 00:23:00</th>\n",
       "      <td>5.738</td>\n",
       "      <td>0.112</td>\n",
       "      <td>239.63</td>\n",
       "      <td>23.8</td>\n",
       "      <td>1.0</td>\n",
       "      <td>38.000</td>\n",
       "      <td>0.0</td>\n",
       "    </tr>\n",
       "    <tr>\n",
       "      <th>2007-04-01 00:24:00</th>\n",
       "      <td>5.692</td>\n",
       "      <td>0.112</td>\n",
       "      <td>239.60</td>\n",
       "      <td>23.6</td>\n",
       "      <td>2.0</td>\n",
       "      <td>39.000</td>\n",
       "      <td>0.0</td>\n",
       "    </tr>\n",
       "    <tr>\n",
       "      <th>2007-04-01 00:25:00</th>\n",
       "      <td>5.554</td>\n",
       "      <td>0.116</td>\n",
       "      <td>239.79</td>\n",
       "      <td>23.0</td>\n",
       "      <td>1.0</td>\n",
       "      <td>38.000</td>\n",
       "      <td>0.0</td>\n",
       "    </tr>\n",
       "    <tr>\n",
       "      <th>2007-04-01 00:26:00</th>\n",
       "      <td>5.464</td>\n",
       "      <td>0.122</td>\n",
       "      <td>239.73</td>\n",
       "      <td>22.8</td>\n",
       "      <td>1.0</td>\n",
       "      <td>39.000</td>\n",
       "      <td>0.0</td>\n",
       "    </tr>\n",
       "    <tr>\n",
       "      <th>2007-04-01 00:27:00</th>\n",
       "      <td>5.360</td>\n",
       "      <td>0.118</td>\n",
       "      <td>239.14</td>\n",
       "      <td>22.4</td>\n",
       "      <td>1.0</td>\n",
       "      <td>38.000</td>\n",
       "      <td>0.0</td>\n",
       "    </tr>\n",
       "    <tr>\n",
       "      <th>2007-04-01 00:28:00</th>\n",
       "      <td>5.164</td>\n",
       "      <td>0.122</td>\n",
       "      <td>240.13</td>\n",
       "      <td>21.4</td>\n",
       "      <td>1.0</td>\n",
       "      <td>39.000</td>\n",
       "      <td>0.0</td>\n",
       "    </tr>\n",
       "    <tr>\n",
       "      <th>2007-04-01 00:29:00</th>\n",
       "      <td>4.060</td>\n",
       "      <td>0.134</td>\n",
       "      <td>241.80</td>\n",
       "      <td>17.4</td>\n",
       "      <td>11.0</td>\n",
       "      <td>10.000</td>\n",
       "      <td>0.0</td>\n",
       "    </tr>\n",
       "    <tr>\n",
       "      <th>...</th>\n",
       "      <td>...</td>\n",
       "      <td>...</td>\n",
       "      <td>...</td>\n",
       "      <td>...</td>\n",
       "      <td>...</td>\n",
       "      <td>...</td>\n",
       "      <td>...</td>\n",
       "    </tr>\n",
       "    <tr>\n",
       "      <th>2010-06-11 23:30:00</th>\n",
       "      <td>0.344</td>\n",
       "      <td>0.054</td>\n",
       "      <td>240.57</td>\n",
       "      <td>1.4</td>\n",
       "      <td>0.0</td>\n",
       "      <td>0.000</td>\n",
       "      <td>1.0</td>\n",
       "    </tr>\n",
       "    <tr>\n",
       "      <th>2010-06-11 23:31:00</th>\n",
       "      <td>0.318</td>\n",
       "      <td>0.000</td>\n",
       "      <td>240.12</td>\n",
       "      <td>1.4</td>\n",
       "      <td>0.0</td>\n",
       "      <td>0.000</td>\n",
       "      <td>0.0</td>\n",
       "    </tr>\n",
       "    <tr>\n",
       "      <th>2010-06-11 23:32:00</th>\n",
       "      <td>0.328</td>\n",
       "      <td>0.000</td>\n",
       "      <td>240.13</td>\n",
       "      <td>1.4</td>\n",
       "      <td>0.0</td>\n",
       "      <td>0.000</td>\n",
       "      <td>1.0</td>\n",
       "    </tr>\n",
       "    <tr>\n",
       "      <th>2010-06-11 23:33:00</th>\n",
       "      <td>0.420</td>\n",
       "      <td>0.102</td>\n",
       "      <td>239.72</td>\n",
       "      <td>1.8</td>\n",
       "      <td>0.0</td>\n",
       "      <td>0.000</td>\n",
       "      <td>0.0</td>\n",
       "    </tr>\n",
       "    <tr>\n",
       "      <th>2010-06-11 23:34:00</th>\n",
       "      <td>0.420</td>\n",
       "      <td>0.104</td>\n",
       "      <td>240.18</td>\n",
       "      <td>1.8</td>\n",
       "      <td>0.0</td>\n",
       "      <td>0.000</td>\n",
       "      <td>1.0</td>\n",
       "    </tr>\n",
       "    <tr>\n",
       "      <th>2010-06-11 23:35:00</th>\n",
       "      <td>0.418</td>\n",
       "      <td>0.106</td>\n",
       "      <td>240.53</td>\n",
       "      <td>1.8</td>\n",
       "      <td>0.0</td>\n",
       "      <td>0.000</td>\n",
       "      <td>1.0</td>\n",
       "    </tr>\n",
       "    <tr>\n",
       "      <th>2010-06-11 23:36:00</th>\n",
       "      <td>0.416</td>\n",
       "      <td>0.106</td>\n",
       "      <td>240.62</td>\n",
       "      <td>1.8</td>\n",
       "      <td>0.0</td>\n",
       "      <td>0.000</td>\n",
       "      <td>0.0</td>\n",
       "    </tr>\n",
       "    <tr>\n",
       "      <th>2010-06-11 23:37:00</th>\n",
       "      <td>0.416</td>\n",
       "      <td>0.108</td>\n",
       "      <td>241.03</td>\n",
       "      <td>1.8</td>\n",
       "      <td>0.0</td>\n",
       "      <td>0.000</td>\n",
       "      <td>1.0</td>\n",
       "    </tr>\n",
       "    <tr>\n",
       "      <th>2010-06-11 23:38:00</th>\n",
       "      <td>0.414</td>\n",
       "      <td>0.108</td>\n",
       "      <td>240.79</td>\n",
       "      <td>1.8</td>\n",
       "      <td>0.0</td>\n",
       "      <td>0.000</td>\n",
       "      <td>1.0</td>\n",
       "    </tr>\n",
       "    <tr>\n",
       "      <th>2010-06-11 23:39:00</th>\n",
       "      <td>0.412</td>\n",
       "      <td>0.108</td>\n",
       "      <td>240.76</td>\n",
       "      <td>1.8</td>\n",
       "      <td>0.0</td>\n",
       "      <td>0.000</td>\n",
       "      <td>0.0</td>\n",
       "    </tr>\n",
       "    <tr>\n",
       "      <th>2010-06-11 23:40:00</th>\n",
       "      <td>0.412</td>\n",
       "      <td>0.110</td>\n",
       "      <td>241.48</td>\n",
       "      <td>1.8</td>\n",
       "      <td>0.0</td>\n",
       "      <td>0.000</td>\n",
       "      <td>1.0</td>\n",
       "    </tr>\n",
       "    <tr>\n",
       "      <th>2010-06-11 23:41:00</th>\n",
       "      <td>0.414</td>\n",
       "      <td>0.112</td>\n",
       "      <td>241.94</td>\n",
       "      <td>1.8</td>\n",
       "      <td>0.0</td>\n",
       "      <td>0.000</td>\n",
       "      <td>1.0</td>\n",
       "    </tr>\n",
       "    <tr>\n",
       "      <th>2010-06-11 23:42:00</th>\n",
       "      <td>0.412</td>\n",
       "      <td>0.110</td>\n",
       "      <td>241.64</td>\n",
       "      <td>1.8</td>\n",
       "      <td>0.0</td>\n",
       "      <td>0.000</td>\n",
       "      <td>0.0</td>\n",
       "    </tr>\n",
       "    <tr>\n",
       "      <th>2010-06-11 23:43:00</th>\n",
       "      <td>0.410</td>\n",
       "      <td>0.110</td>\n",
       "      <td>241.29</td>\n",
       "      <td>1.8</td>\n",
       "      <td>0.0</td>\n",
       "      <td>0.000</td>\n",
       "      <td>1.0</td>\n",
       "    </tr>\n",
       "    <tr>\n",
       "      <th>2010-06-11 23:44:00</th>\n",
       "      <td>0.410</td>\n",
       "      <td>0.108</td>\n",
       "      <td>241.17</td>\n",
       "      <td>1.8</td>\n",
       "      <td>0.0</td>\n",
       "      <td>0.000</td>\n",
       "      <td>1.0</td>\n",
       "    </tr>\n",
       "    <tr>\n",
       "      <th>2010-06-11 23:45:00</th>\n",
       "      <td>0.410</td>\n",
       "      <td>0.110</td>\n",
       "      <td>241.30</td>\n",
       "      <td>1.8</td>\n",
       "      <td>0.0</td>\n",
       "      <td>0.000</td>\n",
       "      <td>0.0</td>\n",
       "    </tr>\n",
       "    <tr>\n",
       "      <th>2010-06-11 23:46:00</th>\n",
       "      <td>0.410</td>\n",
       "      <td>0.108</td>\n",
       "      <td>241.31</td>\n",
       "      <td>1.8</td>\n",
       "      <td>0.0</td>\n",
       "      <td>0.000</td>\n",
       "      <td>1.0</td>\n",
       "    </tr>\n",
       "    <tr>\n",
       "      <th>2010-06-11 23:47:00</th>\n",
       "      <td>0.328</td>\n",
       "      <td>0.000</td>\n",
       "      <td>241.32</td>\n",
       "      <td>1.4</td>\n",
       "      <td>0.0</td>\n",
       "      <td>0.000</td>\n",
       "      <td>0.0</td>\n",
       "    </tr>\n",
       "    <tr>\n",
       "      <th>2010-06-11 23:48:00</th>\n",
       "      <td>0.292</td>\n",
       "      <td>0.000</td>\n",
       "      <td>241.55</td>\n",
       "      <td>1.2</td>\n",
       "      <td>0.0</td>\n",
       "      <td>0.000</td>\n",
       "      <td>1.0</td>\n",
       "    </tr>\n",
       "    <tr>\n",
       "      <th>2010-06-11 23:49:00</th>\n",
       "      <td>0.292</td>\n",
       "      <td>0.000</td>\n",
       "      <td>241.19</td>\n",
       "      <td>1.2</td>\n",
       "      <td>0.0</td>\n",
       "      <td>0.000</td>\n",
       "      <td>1.0</td>\n",
       "    </tr>\n",
       "    <tr>\n",
       "      <th>2010-06-11 23:50:00</th>\n",
       "      <td>0.338</td>\n",
       "      <td>0.000</td>\n",
       "      <td>240.65</td>\n",
       "      <td>1.4</td>\n",
       "      <td>0.0</td>\n",
       "      <td>0.000</td>\n",
       "      <td>0.0</td>\n",
       "    </tr>\n",
       "    <tr>\n",
       "      <th>2010-06-11 23:51:00</th>\n",
       "      <td>0.368</td>\n",
       "      <td>0.078</td>\n",
       "      <td>241.00</td>\n",
       "      <td>1.4</td>\n",
       "      <td>0.0</td>\n",
       "      <td>0.000</td>\n",
       "      <td>1.0</td>\n",
       "    </tr>\n",
       "    <tr>\n",
       "      <th>2010-06-11 23:52:00</th>\n",
       "      <td>0.368</td>\n",
       "      <td>0.078</td>\n",
       "      <td>240.97</td>\n",
       "      <td>1.6</td>\n",
       "      <td>0.0</td>\n",
       "      <td>0.000</td>\n",
       "      <td>1.0</td>\n",
       "    </tr>\n",
       "    <tr>\n",
       "      <th>2010-06-11 23:53:00</th>\n",
       "      <td>0.370</td>\n",
       "      <td>0.078</td>\n",
       "      <td>241.24</td>\n",
       "      <td>1.6</td>\n",
       "      <td>0.0</td>\n",
       "      <td>0.000</td>\n",
       "      <td>0.0</td>\n",
       "    </tr>\n",
       "    <tr>\n",
       "      <th>2010-06-11 23:54:00</th>\n",
       "      <td>0.368</td>\n",
       "      <td>0.078</td>\n",
       "      <td>241.07</td>\n",
       "      <td>1.6</td>\n",
       "      <td>0.0</td>\n",
       "      <td>0.000</td>\n",
       "      <td>1.0</td>\n",
       "    </tr>\n",
       "    <tr>\n",
       "      <th>2010-06-11 23:55:00</th>\n",
       "      <td>0.366</td>\n",
       "      <td>0.078</td>\n",
       "      <td>241.06</td>\n",
       "      <td>1.4</td>\n",
       "      <td>0.0</td>\n",
       "      <td>0.000</td>\n",
       "      <td>1.0</td>\n",
       "    </tr>\n",
       "    <tr>\n",
       "      <th>2010-06-11 23:56:00</th>\n",
       "      <td>0.364</td>\n",
       "      <td>0.078</td>\n",
       "      <td>240.79</td>\n",
       "      <td>1.4</td>\n",
       "      <td>0.0</td>\n",
       "      <td>0.000</td>\n",
       "      <td>0.0</td>\n",
       "    </tr>\n",
       "    <tr>\n",
       "      <th>2010-06-11 23:57:00</th>\n",
       "      <td>0.364</td>\n",
       "      <td>0.078</td>\n",
       "      <td>241.05</td>\n",
       "      <td>1.4</td>\n",
       "      <td>0.0</td>\n",
       "      <td>0.000</td>\n",
       "      <td>1.0</td>\n",
       "    </tr>\n",
       "    <tr>\n",
       "      <th>2010-06-11 23:58:00</th>\n",
       "      <td>0.362</td>\n",
       "      <td>0.078</td>\n",
       "      <td>240.85</td>\n",
       "      <td>1.4</td>\n",
       "      <td>0.0</td>\n",
       "      <td>0.000</td>\n",
       "      <td>1.0</td>\n",
       "    </tr>\n",
       "    <tr>\n",
       "      <th>2010-06-11 23:59:00</th>\n",
       "      <td>0.362</td>\n",
       "      <td>0.076</td>\n",
       "      <td>240.61</td>\n",
       "      <td>1.4</td>\n",
       "      <td>0.0</td>\n",
       "      <td>0.000</td>\n",
       "      <td>0.0</td>\n",
       "    </tr>\n",
       "  </tbody>\n",
       "</table>\n",
       "<p>519840 rows × 7 columns</p>\n",
       "</div>"
      ],
      "text/plain": [
       "                         P      S       V     I  Sub_metering_1  \\\n",
       "datetime                                                          \n",
       "2007-04-01 00:00:00  0.850  0.046  242.61   3.6             0.0   \n",
       "2007-04-01 00:01:00  0.742  0.000  242.57   3.2             0.0   \n",
       "2007-04-01 00:02:00  0.906  0.000  243.35   3.8             0.0   \n",
       "2007-04-01 00:03:00  0.606  0.046  243.16   2.6             0.0   \n",
       "2007-04-01 00:04:00  0.538  0.046  243.29   2.2             0.0   \n",
       "2007-04-01 00:05:00  0.522  0.000  242.56   2.2             0.0   \n",
       "2007-04-01 00:06:00  0.550  0.000  243.01   2.2             0.0   \n",
       "2007-04-01 00:07:00  0.782  0.124  243.03   3.2             0.0   \n",
       "2007-04-01 00:08:00  1.486  0.138  241.64   6.2             0.0   \n",
       "2007-04-01 00:09:00  1.458  0.140  241.71   6.0             0.0   \n",
       "2007-04-01 00:10:00  1.462  0.142  242.29   6.0             0.0   \n",
       "2007-04-01 00:11:00  1.492  0.146  242.87   6.2             0.0   \n",
       "2007-04-01 00:12:00  1.604  0.142  242.40   6.6             0.0   \n",
       "2007-04-01 00:13:00  1.560  0.140  242.69   6.4             0.0   \n",
       "2007-04-01 00:14:00  1.420  0.124  242.64   5.8             0.0   \n",
       "2007-04-01 00:15:00  2.172  0.084  241.47   9.8             0.0   \n",
       "2007-04-01 00:16:00  4.010  0.090  240.43  16.6             0.0   \n",
       "2007-04-01 00:17:00  3.786  0.102  241.48  15.6             1.0   \n",
       "2007-04-01 00:18:00  4.572  0.102  241.33  19.4             1.0   \n",
       "2007-04-01 00:19:00  5.756  0.104  240.32  23.8             2.0   \n",
       "2007-04-01 00:20:00  5.886  0.108  240.34  24.4             1.0   \n",
       "2007-04-01 00:21:00  5.922  0.110  240.21  24.6             1.0   \n",
       "2007-04-01 00:22:00  5.850  0.110  239.87  24.4             1.0   \n",
       "2007-04-01 00:23:00  5.738  0.112  239.63  23.8             1.0   \n",
       "2007-04-01 00:24:00  5.692  0.112  239.60  23.6             2.0   \n",
       "2007-04-01 00:25:00  5.554  0.116  239.79  23.0             1.0   \n",
       "2007-04-01 00:26:00  5.464  0.122  239.73  22.8             1.0   \n",
       "2007-04-01 00:27:00  5.360  0.118  239.14  22.4             1.0   \n",
       "2007-04-01 00:28:00  5.164  0.122  240.13  21.4             1.0   \n",
       "2007-04-01 00:29:00  4.060  0.134  241.80  17.4            11.0   \n",
       "...                    ...    ...     ...   ...             ...   \n",
       "2010-06-11 23:30:00  0.344  0.054  240.57   1.4             0.0   \n",
       "2010-06-11 23:31:00  0.318  0.000  240.12   1.4             0.0   \n",
       "2010-06-11 23:32:00  0.328  0.000  240.13   1.4             0.0   \n",
       "2010-06-11 23:33:00  0.420  0.102  239.72   1.8             0.0   \n",
       "2010-06-11 23:34:00  0.420  0.104  240.18   1.8             0.0   \n",
       "2010-06-11 23:35:00  0.418  0.106  240.53   1.8             0.0   \n",
       "2010-06-11 23:36:00  0.416  0.106  240.62   1.8             0.0   \n",
       "2010-06-11 23:37:00  0.416  0.108  241.03   1.8             0.0   \n",
       "2010-06-11 23:38:00  0.414  0.108  240.79   1.8             0.0   \n",
       "2010-06-11 23:39:00  0.412  0.108  240.76   1.8             0.0   \n",
       "2010-06-11 23:40:00  0.412  0.110  241.48   1.8             0.0   \n",
       "2010-06-11 23:41:00  0.414  0.112  241.94   1.8             0.0   \n",
       "2010-06-11 23:42:00  0.412  0.110  241.64   1.8             0.0   \n",
       "2010-06-11 23:43:00  0.410  0.110  241.29   1.8             0.0   \n",
       "2010-06-11 23:44:00  0.410  0.108  241.17   1.8             0.0   \n",
       "2010-06-11 23:45:00  0.410  0.110  241.30   1.8             0.0   \n",
       "2010-06-11 23:46:00  0.410  0.108  241.31   1.8             0.0   \n",
       "2010-06-11 23:47:00  0.328  0.000  241.32   1.4             0.0   \n",
       "2010-06-11 23:48:00  0.292  0.000  241.55   1.2             0.0   \n",
       "2010-06-11 23:49:00  0.292  0.000  241.19   1.2             0.0   \n",
       "2010-06-11 23:50:00  0.338  0.000  240.65   1.4             0.0   \n",
       "2010-06-11 23:51:00  0.368  0.078  241.00   1.4             0.0   \n",
       "2010-06-11 23:52:00  0.368  0.078  240.97   1.6             0.0   \n",
       "2010-06-11 23:53:00  0.370  0.078  241.24   1.6             0.0   \n",
       "2010-06-11 23:54:00  0.368  0.078  241.07   1.6             0.0   \n",
       "2010-06-11 23:55:00  0.366  0.078  241.06   1.4             0.0   \n",
       "2010-06-11 23:56:00  0.364  0.078  240.79   1.4             0.0   \n",
       "2010-06-11 23:57:00  0.364  0.078  241.05   1.4             0.0   \n",
       "2010-06-11 23:58:00  0.362  0.078  240.85   1.4             0.0   \n",
       "2010-06-11 23:59:00  0.362  0.076  240.61   1.4             0.0   \n",
       "\n",
       "                    Sub_metering_2  Sub_metering_3  \n",
       "datetime                                            \n",
       "2007-04-01 00:00:00          0.000             0.0  \n",
       "2007-04-01 00:01:00          0.000             0.0  \n",
       "2007-04-01 00:02:00          0.000             0.0  \n",
       "2007-04-01 00:03:00          0.000             0.0  \n",
       "2007-04-01 00:04:00          0.000             0.0  \n",
       "2007-04-01 00:05:00          0.000             0.0  \n",
       "2007-04-01 00:06:00          0.000             0.0  \n",
       "2007-04-01 00:07:00          0.000             0.0  \n",
       "2007-04-01 00:08:00          0.000             0.0  \n",
       "2007-04-01 00:09:00          0.000             0.0  \n",
       "2007-04-01 00:10:00          0.000             0.0  \n",
       "2007-04-01 00:11:00          0.000             0.0  \n",
       "2007-04-01 00:12:00          0.000             0.0  \n",
       "2007-04-01 00:13:00          0.000             0.0  \n",
       "2007-04-01 00:14:00          0.000             0.0  \n",
       "2007-04-01 00:15:00          6.000             0.0  \n",
       "2007-04-01 00:16:00         39.000             0.0  \n",
       "2007-04-01 00:17:00         39.000             0.0  \n",
       "2007-04-01 00:18:00         39.000             0.0  \n",
       "2007-04-01 00:19:00         38.000             0.0  \n",
       "2007-04-01 00:20:00         39.000             0.0  \n",
       "2007-04-01 00:21:00         39.000             0.0  \n",
       "2007-04-01 00:22:00         39.000             0.0  \n",
       "2007-04-01 00:23:00         38.000             0.0  \n",
       "2007-04-01 00:24:00         39.000             0.0  \n",
       "2007-04-01 00:25:00         38.000             0.0  \n",
       "2007-04-01 00:26:00         39.000             0.0  \n",
       "2007-04-01 00:27:00         38.000             0.0  \n",
       "2007-04-01 00:28:00         39.000             0.0  \n",
       "2007-04-01 00:29:00         10.000             0.0  \n",
       "...                            ...             ...  \n",
       "2010-06-11 23:30:00          0.000             1.0  \n",
       "2010-06-11 23:31:00          0.000             0.0  \n",
       "2010-06-11 23:32:00          0.000             1.0  \n",
       "2010-06-11 23:33:00          0.000             0.0  \n",
       "2010-06-11 23:34:00          0.000             1.0  \n",
       "2010-06-11 23:35:00          0.000             1.0  \n",
       "2010-06-11 23:36:00          0.000             0.0  \n",
       "2010-06-11 23:37:00          0.000             1.0  \n",
       "2010-06-11 23:38:00          0.000             1.0  \n",
       "2010-06-11 23:39:00          0.000             0.0  \n",
       "2010-06-11 23:40:00          0.000             1.0  \n",
       "2010-06-11 23:41:00          0.000             1.0  \n",
       "2010-06-11 23:42:00          0.000             0.0  \n",
       "2010-06-11 23:43:00          0.000             1.0  \n",
       "2010-06-11 23:44:00          0.000             1.0  \n",
       "2010-06-11 23:45:00          0.000             0.0  \n",
       "2010-06-11 23:46:00          0.000             1.0  \n",
       "2010-06-11 23:47:00          0.000             0.0  \n",
       "2010-06-11 23:48:00          0.000             1.0  \n",
       "2010-06-11 23:49:00          0.000             1.0  \n",
       "2010-06-11 23:50:00          0.000             0.0  \n",
       "2010-06-11 23:51:00          0.000             1.0  \n",
       "2010-06-11 23:52:00          0.000             1.0  \n",
       "2010-06-11 23:53:00          0.000             0.0  \n",
       "2010-06-11 23:54:00          0.000             1.0  \n",
       "2010-06-11 23:55:00          0.000             1.0  \n",
       "2010-06-11 23:56:00          0.000             0.0  \n",
       "2010-06-11 23:57:00          0.000             1.0  \n",
       "2010-06-11 23:58:00          0.000             1.0  \n",
       "2010-06-11 23:59:00          0.000             0.0  \n",
       "\n",
       "[519840 rows x 7 columns]"
      ]
     },
     "execution_count": 91,
     "metadata": {},
     "output_type": "execute_result"
    }
   ],
   "source": [
    "data[data.index.month.isin([4, 5, 6])]"
   ]
  },
  {
   "cell_type": "markdown",
   "metadata": {},
   "source": [
    "<div class=\"alert alert-success\">\n",
    "\n",
    "<b>Activity</b>:\n",
    "\n",
    " <ul>\n",
    "  <li>select all 'daytime' data (between 12h and 15h) for all days</li>\n",
    "</ul>\n",
    "</div>"
   ]
  },
  {
   "cell_type": "code",
   "execution_count": 92,
   "metadata": {},
   "outputs": [
    {
     "data": {
      "text/plain": [
       "<matplotlib.axes._subplots.AxesSubplot at 0x7fc068928400>"
      ]
     },
     "execution_count": 92,
     "metadata": {},
     "output_type": "execute_result"
    },
    {
     "data": {
      "image/png": "[encoded data removed]",
      "text/plain": [
       "<Figure size 432x288 with 1 Axes>"
      ]
     },
     "metadata": {
      "needs_background": "light"
     },
     "output_type": "display_data"
    }
   ],
   "source": [
    "data[(data.index.hour > 12) & (data.index.hour < 15)]['P'].plot()"
   ]
  },
  {
   "cell_type": "markdown",
   "metadata": {},
   "source": [
    "## The power of pandas: `resample`"
   ]
  },
  {
   "cell_type": "markdown",
   "metadata": {},
   "source": [
    "A very powerfull method is **`resample`: converting the frequency of the time series** (e.g. from hourly to daily data).\n",
    "\n",
    "The time series has a frequency of 1 hour. I want to change this to daily:"
   ]
  },
  {
   "cell_type": "code",
   "execution_count": 93,
   "metadata": {},
   "outputs": [
    {
     "data": {
      "text/html": [
       "<div>\n",
       "<style scoped>\n",
       "    .dataframe tbody tr th:only-of-type {\n",
       "        vertical-align: middle;\n",
       "    }\n",
       "\n",
       "    .dataframe tbody tr th {\n",
       "        vertical-align: top;\n",
       "    }\n",
       "\n",
       "    .dataframe thead th {\n",
       "        text-align: right;\n",
       "    }\n",
       "</style>\n",
       "<table border=\"1\" class=\"dataframe\">\n",
       "  <thead>\n",
       "    <tr style=\"text-align: right;\">\n",
       "      <th></th>\n",
       "      <th>P</th>\n",
       "      <th>S</th>\n",
       "      <th>V</th>\n",
       "      <th>I</th>\n",
       "      <th>Sub_metering_1</th>\n",
       "      <th>Sub_metering_3</th>\n",
       "    </tr>\n",
       "    <tr>\n",
       "      <th>datetime</th>\n",
       "      <th></th>\n",
       "      <th></th>\n",
       "      <th></th>\n",
       "      <th></th>\n",
       "      <th></th>\n",
       "      <th></th>\n",
       "    </tr>\n",
       "  </thead>\n",
       "  <tbody>\n",
       "    <tr>\n",
       "      <th>2006-12-16</th>\n",
       "      <td>3.053475</td>\n",
       "      <td>0.088187</td>\n",
       "      <td>236.243763</td>\n",
       "      <td>13.082828</td>\n",
       "      <td>0.000000</td>\n",
       "      <td>12.439394</td>\n",
       "    </tr>\n",
       "    <tr>\n",
       "      <th>2006-12-17</th>\n",
       "      <td>2.354486</td>\n",
       "      <td>0.156949</td>\n",
       "      <td>240.087028</td>\n",
       "      <td>9.999028</td>\n",
       "      <td>1.411806</td>\n",
       "      <td>9.264583</td>\n",
       "    </tr>\n",
       "    <tr>\n",
       "      <th>2006-12-18</th>\n",
       "      <td>1.530435</td>\n",
       "      <td>0.112356</td>\n",
       "      <td>241.231694</td>\n",
       "      <td>6.421667</td>\n",
       "      <td>0.738194</td>\n",
       "      <td>9.734722</td>\n",
       "    </tr>\n",
       "    <tr>\n",
       "      <th>2006-12-19</th>\n",
       "      <td>1.157079</td>\n",
       "      <td>0.104821</td>\n",
       "      <td>241.999313</td>\n",
       "      <td>4.926389</td>\n",
       "      <td>0.582639</td>\n",
       "      <td>4.303472</td>\n",
       "    </tr>\n",
       "    <tr>\n",
       "      <th>2006-12-20</th>\n",
       "      <td>1.545658</td>\n",
       "      <td>0.111804</td>\n",
       "      <td>242.308063</td>\n",
       "      <td>6.467361</td>\n",
       "      <td>0.000000</td>\n",
       "      <td>9.765972</td>\n",
       "    </tr>\n",
       "  </tbody>\n",
       "</table>\n",
       "</div>"
      ],
      "text/plain": [
       "                   P         S           V          I  Sub_metering_1  \\\n",
       "datetime                                                                \n",
       "2006-12-16  3.053475  0.088187  236.243763  13.082828        0.000000   \n",
       "2006-12-17  2.354486  0.156949  240.087028   9.999028        1.411806   \n",
       "2006-12-18  1.530435  0.112356  241.231694   6.421667        0.738194   \n",
       "2006-12-19  1.157079  0.104821  241.999313   4.926389        0.582639   \n",
       "2006-12-20  1.545658  0.111804  242.308063   6.467361        0.000000   \n",
       "\n",
       "            Sub_metering_3  \n",
       "datetime                    \n",
       "2006-12-16       12.439394  \n",
       "2006-12-17        9.264583  \n",
       "2006-12-18        9.734722  \n",
       "2006-12-19        4.303472  \n",
       "2006-12-20        9.765972  "
      ]
     },
     "execution_count": 93,
     "metadata": {},
     "output_type": "execute_result"
    }
   ],
   "source": [
    "data.resample('D').mean().head()"
   ]
  },
  {
   "cell_type": "markdown",
   "metadata": {},
   "source": [
    "<div class=\"alert alert-info\">\n",
    "<b>REMEMBER</b>: <br><br>\n",
    "\n",
    "The string to specify the new time frequency: http://pandas.pydata.org/pandas-docs/stable/user_guide/timeseries.html#offset-aliases <br><br>\n",
    "\n",
    "These strings can also be combined with numbers, eg `'10D'`...\n",
    "\n",
    "</div>\n",
    "\n"
   ]
  },
  {
   "cell_type": "code",
   "execution_count": 94,
   "metadata": {},
   "outputs": [
    {
     "data": {
      "text/plain": [
       "<matplotlib.axes._subplots.AxesSubplot at 0x7fc068a14a90>"
      ]
     },
     "execution_count": 94,
     "metadata": {},
     "output_type": "execute_result"
    },
    {
     "data": {
      "image/png": "[encoded data removed]",
      "text/plain": [
       "<Figure size 432x288 with 1 Axes>"
      ]
     },
     "metadata": {
      "needs_background": "light"
     },
     "output_type": "display_data"
    }
   ],
   "source": [
    "data['P'].resample('M').mean().plot() "
   ]
  },
  {
   "cell_type": "markdown",
   "metadata": {},
   "source": [
    "<div class=\"alert alert-success\">\n",
    "\n",
    "<b>Activity</b>:\n",
    "\n",
    " <ul>\n",
    "  <li>plot the monthly mean and median values for the years 2008-2010 for current <br><br></li>\n",
    "</ul>\n",
    "    \n",
    "**Note** <br>You can create a new figure with `fig, ax = plt.subplots()` and add each of the plots to the created `ax` object (see documentation of pandas plot function)\n",
    "</div>"
   ]
  },
  {
   "cell_type": "code",
   "execution_count": 98,
   "metadata": {},
   "outputs": [
    {
     "data": {
      "text/plain": [
       "<matplotlib.legend.Legend at 0x7fc068af8b38>"
      ]
     },
     "execution_count": 98,
     "metadata": {},
     "output_type": "execute_result"
    },
    {
     "data": {
      "image/png": "[encoded data removed]",
      "text/plain": [
       "<Figure size 432x288 with 1 Axes>"
      ]
     },
     "metadata": {
      "needs_background": "light"
     },
     "output_type": "display_data"
    }
   ],
   "source": [
    "subset = data['2008':'2010']['P']\n",
    "fig, ax = plt.subplots()\n",
    "subset.resample('M').mean().plot(ax=ax)\n",
    "subset.resample('M').median().plot(ax=ax)\n",
    "ax.legend([\"mean\", \"median\"])"
   ]
  },
  {
   "cell_type": "code",
   "execution_count": 99,
   "metadata": {},
   "outputs": [
    {
     "data": {
      "text/plain": [
       "<matplotlib.axes._subplots.AxesSubplot at 0x7fc03d18bfd0>"
      ]
     },
     "execution_count": 99,
     "metadata": {},
     "output_type": "execute_result"
    },
    {
     "data": {
      "image/png": "[encoded data removed]",
      "text/plain": [
       "<Figure size 432x288 with 1 Axes>"
      ]
     },
     "metadata": {
      "needs_background": "light"
     },
     "output_type": "display_data"
    }
   ],
   "source": [
    "subset.resample('M').agg(['mean', 'median']).plot()"
   ]
  },
  {
   "cell_type": "markdown",
   "metadata": {},
   "source": [
    "<div class=\"alert alert-success\">\n",
    "\n",
    "<b>Activity</b>:\n",
    "\n",
    " <ul>\n",
    "  <li>plot the monthly mininum and maximum daily average voltage column</li>\n",
    "</ul>\n",
    "</div>"
   ]
  },
  {
   "cell_type": "code",
   "execution_count": 103,
   "metadata": {},
   "outputs": [],
   "source": [
    "daily = data['V'].resample('D').mean() # daily averages calculated"
   ]
  },
  {
   "cell_type": "code",
   "execution_count": 104,
   "metadata": {},
   "outputs": [
    {
     "data": {
      "text/plain": [
       "<matplotlib.axes._subplots.AxesSubplot at 0x7fc03cd48f28>"
      ]
     },
     "execution_count": 104,
     "metadata": {},
     "output_type": "execute_result"
    },
    {
     "data": {
      "image/png": "[encoded data removed]",
      "text/plain": [
       "<Figure size 432x288 with 1 Axes>"
      ]
     },
     "metadata": {
      "needs_background": "light"
     },
     "output_type": "display_data"
    }
   ],
   "source": [
    "daily.resample('M').agg(['min', 'max']).plot() # monthly minimum and maximum values of these daily averages"
   ]
  },
  {
   "cell_type": "code",
   "execution_count": null,
   "metadata": {},
   "outputs": [],
   "source": []
  }
 ],
 "metadata": {
  "kernelspec": {
   "display_name": "Python 3",
   "language": "python",
   "name": "python3"
  },
  "language_info": {
   "codemirror_mode": {
    "name": "ipython",
    "version": 3
   },
   "file_extension": ".py",
   "mimetype": "text/x-python",
   "name": "python",
   "nbconvert_exporter": "python",
   "pygments_lexer": "ipython3",
   "version": "3.6.8"
  },
  "latex_envs": {
   "LaTeX_envs_menu_present": true,
   "autoclose": false,
   "autocomplete": true,
   "bibliofile": "biblio.bib",
   "cite_by": "apalike",
   "current_citInitial": 1,
   "eqLabelWithNumbers": true,
   "eqNumInitial": 1,
   "hotkeys": {
    "equation": "Ctrl-E",
    "itemize": "Ctrl-I"
   },
   "labels_anchors": false,
   "latex_user_defs": false,
   "report_style_numbering": false,
   "user_envs_cfg": false
  }
 },
 "nbformat": 4,
 "nbformat_minor": 2
}
