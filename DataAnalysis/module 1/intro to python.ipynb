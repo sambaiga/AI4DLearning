{
 "cells": [
  {
   "cell_type": "markdown",
   "metadata": {},
   "source": [
    "# <img style=\"float: left; padding-right: 100px; width: 300px\" src=\"images/logo.png\">AI4SG Bootcamp:\n",
    "\n",
    "\n",
    "## Introduction to Python \n",
    "**Authors:** Faustine\n",
    "\n",
    "\n",
    "---"
   ]
  },
  {
   "cell_type": "markdown",
   "metadata": {},
   "source": [
    "# 1.0. Jupyter notebook\n",
    "\n",
    "Open-source web application for interactive and exploratory computing. It allows to create and share documents that contain live code, equations, visualizations and explanatory text. We will work in **Jupyter notebooks** for all lab sessions. We use it to run our python codes and view the results. \n",
    "\n",
    "It is a platform for Data Science at scale as it covers all the life-cycle of scientific ideas :ideas to publications.\n",
    "\n",
    "A **notebook** is a collection of `cells`, that can contain different content\n"
   ]
  },
  {
   "cell_type": "markdown",
   "metadata": {},
   "source": [
    "### Basics notebook commands\n",
    "- create cell\n",
    "- excute cell\n",
    "- Change kernel"
   ]
  },
  {
   "cell_type": "markdown",
   "metadata": {},
   "source": [
    "### Code"
   ]
  },
  {
   "cell_type": "code",
   "execution_count": 1,
   "metadata": {},
   "outputs": [
    {
     "name": "stdout",
     "output_type": "stream",
     "text": [
      "Hello world\n"
     ]
    }
   ],
   "source": [
    "print(\"Hello world\")"
   ]
  },
  {
   "cell_type": "code",
   "execution_count": 2,
   "metadata": {},
   "outputs": [
    {
     "name": "stdout",
     "output_type": "stream",
     "text": [
      "15\n"
     ]
    }
   ],
   "source": [
    "x = 10\n",
    "print(x + 5) "
   ]
  },
  {
   "cell_type": "markdown",
   "metadata": {},
   "source": [
    "### Text : Mark down\n",
    "\n",
    "**Parrotai** we make ideas *happens*"
   ]
  },
  {
   "cell_type": "markdown",
   "metadata": {},
   "source": [
    "### Math equations\n",
    "\n",
    "$x= y^2$"
   ]
  },
  {
   "cell_type": "markdown",
   "metadata": {},
   "source": [
    "### HTML commands\n",
    "You can also use HTML commands, just check this cell:\n",
    "\n",
    "<h3> html-adapted titel with &#60;h3&#62; </h3> <p></p>\n",
    "<b> Bold text &#60;b&#62; </b> of <i>or italic &#60;i&#62; </i>"
   ]
  },
  {
   "cell_type": "markdown",
   "metadata": {},
   "source": [
    "### Important shortcuts"
   ]
  },
  {
   "cell_type": "markdown",
   "metadata": {},
   "source": [
    "- The **TAB** button is essential: It provides you all possible actions you can do after loading in a library AND it is used for automatic autocompletion\n"
   ]
  },
  {
   "cell_type": "code",
   "execution_count": 3,
   "metadata": {},
   "outputs": [],
   "source": [
    "import math\n",
    "\n",
    "#math.+TAB"
   ]
  },
  {
   "cell_type": "markdown",
   "metadata": {},
   "source": [
    "- The SHIFT-TAB combination is ultra essential to get information/help about the current operation"
   ]
  },
  {
   "cell_type": "code",
   "execution_count": 4,
   "metadata": {},
   "outputs": [],
   "source": [
    "#math.cos+SHIFT+TAB"
   ]
  },
  {
   "cell_type": "markdown",
   "metadata": {},
   "source": [
    "#### Creating a notebook"
   ]
  },
  {
   "cell_type": "markdown",
   "metadata": {},
   "source": [
    "Click on 'New' in the right left corner and 'Python 3' in the drop-down list (we are going to use a [Python kernel](https://github.com/ipython/ipython) for all our experiments).\n",
    "\n",
    "![new_notebook](images/notebook_tutorial/new_notebook.png)\n",
    "\n",
    "Note: You will sometimes hear people talking about the Notebook 'kernel'. The 'kernel' is just the Python engine that performs the computations for you. "
   ]
  },
  {
   "cell_type": "markdown",
   "metadata": {},
   "source": [
    "1. Your notebook is autosaved every 120 seconds. If you want to manually save it you can just press the save button on the upper left corner or press <kbd>s</kbd> in **Command Mode**.\n",
    "\n",
    "![Save](images/notebook_tutorial/save.png)\n",
    "\n",
    "2. To know if your kernel is computing or not you can check the dot in your upper right corner. If the dot is full, it means that the kernel is working. If not, it is idle. You can place the mouse on it and see the state of the kernel be displayed.\n",
    "\n",
    "![Busy](images/notebook_tutorial/busy.png)\n",
    "\n",
    "3. There are a couple of shortcuts you must know about which we use **all** the time (always in **Command Mode**). These are:\n",
    "\n",
    "<kbd>Shift</kbd>+<kbd>Enter</kbd>: Runs the code or markdown on a cell\n",
    "\n",
    "<kbd>Up Arrow</kbd>+<kbd>Down Arrow</kbd>: Toggle across cells\n",
    "\n",
    "<kbd>b</kbd>: Create new cell\n",
    "\n",
    "<kbd>0</kbd>+<kbd>0</kbd>: Reset Kernel\n",
    "\n",
    "You can find more shortcuts in the Shortcuts section below."
   ]
  },
  {
   "cell_type": "markdown",
   "metadata": {},
   "source": [
    "# 1 Python Basics\n",
    "\n",
    "Python is a very popular general-purpose programming language.\n",
    "- Open source general-purpose language\n",
    "- Dynamically semantics (rather than statically typed like Java or C/C++)\n",
    "- Interpreted (rather than compiled like Java or C/C++)\n",
    "- Object Oriented.\n",
    "\n",
    "Why is Python such an effective tool in scientific research ?\n",
    "- Interoperability with Other Languages : You can use it in the shell on microtasks, or interactively, or in scripts, or build enterprise software with GUIs.\n",
    "-  “Batteries Included” + Third-Party Modules : Python has built-in libraries and third-party liabraies for nearly everything.\n",
    "- Simplicity & Dynamic Nature : You can run your Python code on any architecture.\n",
    "- Open ethos well-fit to science : Easy to reproduce results with python\n",
    "\n",
    "\n",
    "Why is Python such an effective tool for Data Science and Machine learning research\n",
    "- Very rich scientific computing libraries (numpy, matplotlib, pandas, scipy etc) and machine learning frameworks (Pytorch, Tensorflow, keras, mxnet,  etc)\n",
    "- All DS and ML tasks can be performed with Python :\n",
    " - accessing, collecting, cleaning, analysing, visualising data  modelling, evaluating models, integrating in prod, scaling etc.\n",
    " \n",
    " \n",
    "**Python 2 VS. Python 3**\n",
    "\n",
    "Two major versions of Python in widespread use : Python 2.x\n",
    "and Python 3.x\n",
    "- Some features in Python 3 are not backward compatible\n",
    "with Python 2\n",
    "- Some Python 2 libraries have not been updated to work\n",
    "with Python 3\n",
    "- Bottom-line : there is no wrong choice, as long as all the libraries you need are supported by the version you choose but most of libararies are phasing out python 2.x.\n",
    "- In this training : Python3"
   ]
  },
  {
   "cell_type": "markdown",
   "metadata": {},
   "source": [
    "#### Python vs other language"
   ]
  },
  {
   "cell_type": "code",
   "execution_count": null,
   "metadata": {},
   "outputs": [],
   "source": [
    "print(\"Hello World\")"
   ]
  },
  {
   "cell_type": "markdown",
   "metadata": {},
   "source": [
    "#### Consider hello world in Java and C++"
   ]
  },
  {
   "cell_type": "markdown",
   "metadata": {},
   "source": [
    "### Java\n",
    "``` java \n",
    "public class HelloWorld {\n",
    "\n",
    "    public static void main(String[] args) {\n",
    "        // Prints \"Hello, World\" to the terminal window.\n",
    "        System.out.println(\"Hello, World\");\n",
    "    }\n",
    "\n",
    "}\n",
    "```\n",
    "\n",
    "### C++\n",
    "\n",
    "```c++\n",
    "#include <iostream>\n",
    "using namespace std;\n",
    "\n",
    "int main() \n",
    "{\n",
    "    cout << \"Hello, World!\";\n",
    "    return 0;\n",
    "}\n",
    "```"
   ]
  },
  {
   "cell_type": "markdown",
   "metadata": {},
   "source": [
    "### 1.1 Comments\n",
    "\n",
    "Text to the right of the // symbol are comments used as notes for the reader of the program."
   ]
  },
  {
   "cell_type": "code",
   "execution_count": null,
   "metadata": {},
   "outputs": [],
   "source": [
    "print(\"Hello world\") # This is hello world"
   ]
  },
  {
   "cell_type": "markdown",
   "metadata": {},
   "source": [
    "Use as many useful comments as you can in your program to:\n",
    "\n",
    "+ explain assumptions\n",
    "+ explain important decisions\n",
    "+ explain important details\n",
    "+ explain problems you're trying to solve\n",
    "+ explain problems you're trying to overcome in your program, etc\n",
    "\n",
    "Code tells you how, comments should tell you why."
   ]
  },
  {
   "cell_type": "markdown",
   "metadata": {},
   "source": [
    "### 1.2 Variable and Print Statement\n",
    "\n",
    "**Variable**: A name that is used to denote something or a value is called a variable. In python, variables can be declared and values can be assigned to it.\n",
    "\n",
    "We use a single equals sign to assign labels to variables. Let's see a few examples of how we can do thi"
   ]
  },
  {
   "cell_type": "code",
   "execution_count": null,
   "metadata": {},
   "outputs": [],
   "source": [
    "# Variables and assignment\n",
    "a = 3\n",
    "print (a)\n"
   ]
  },
  {
   "cell_type": "code",
   "execution_count": null,
   "metadata": {},
   "outputs": [],
   "source": [
    "s = \"parrotai\"\n",
    "print(s)"
   ]
  },
  {
   "cell_type": "code",
   "execution_count": null,
   "metadata": {},
   "outputs": [],
   "source": [
    "c= 10 + 5j\n",
    "print(c)"
   ]
  },
  {
   "cell_type": "markdown",
   "metadata": {},
   "source": [
    "To know the type of variable use **type()** function"
   ]
  },
  {
   "cell_type": "code",
   "execution_count": null,
   "metadata": {},
   "outputs": [],
   "source": [
    "type(a)"
   ]
  },
  {
   "cell_type": "code",
   "execution_count": null,
   "metadata": {},
   "outputs": [],
   "source": [
    "type(c)"
   ]
  },
  {
   "cell_type": "code",
   "execution_count": null,
   "metadata": {},
   "outputs": [],
   "source": [
    "type(s)"
   ]
  },
  {
   "cell_type": "markdown",
   "metadata": {},
   "source": [
    "### Choosing a variable name:\n",
    "The names you use when creating these labels need to follow a few rules:\n",
    "    \n",
    "1. Names can not start with a number.\n",
    "2. There can be no spaces in the name, use _ instead.\n",
    "3. Can't use any of these symbols :'\",<>/?|\\()!@#$%^&*~-+\n",
    "3. It's considered best practice (PEP8) that the names are lowercase."
   ]
  },
  {
   "cell_type": "markdown",
   "metadata": {},
   "source": [
    "**Print Statements**\n",
    "\n",
    "The **print** statement can be used in the following different ways :\n",
    "\n",
    "    - print(variable_name)\n",
    "    - print(\"Hello World\")\n",
    "    - print (\"Hello\", <Variable >)\n",
    "    - print (\"Hello\" + <Variable Containing the String>)\n",
    "    - print (\"Hello %s\" % <variable containing the string>)\n",
    "    - print (\"Hello\" + <Variable Containing the String>)\n",
    "    - print (\"Hello %d\" % <variable containing integer datatype>)\n",
    "    - print (\"Hello %f\" % <variable containing float datatype>)"
   ]
  },
  {
   "cell_type": "code",
   "execution_count": null,
   "metadata": {},
   "outputs": [],
   "source": [
    "acc = 89\n",
    "fs = 60.20\n",
    "model = \"Random Forest\"\n",
    "print(\"The perfomance results for  %s model: Accuracy: %d ; F-score: %.3f\" %(model,acc,fs))"
   ]
  },
  {
   "cell_type": "markdown",
   "metadata": {},
   "source": [
    "Alternatively you can use **.format()** in print function"
   ]
  },
  {
   "cell_type": "code",
   "execution_count": null,
   "metadata": {},
   "outputs": [],
   "source": [
    "print(\"The perfomance results for  {0} model: Accuracy: {1} ; F-score: {2}\" .format(model,acc,fs))"
   ]
  },
  {
   "cell_type": "code",
   "execution_count": null,
   "metadata": {},
   "outputs": [],
   "source": [
    "print(f\"The perfomance results for  {model} model: Accuracy: {acc} ; F-score: {fs}\")"
   ]
  },
  {
   "cell_type": "markdown",
   "metadata": {},
   "source": [
    "<div class=\"alert alert-success\">\n",
    "    <b>Activity 1</b>: Write a program that prints your full name and your birthdate as separate strings.\n",
    "</div>"
   ]
  },
  {
   "cell_type": "code",
   "execution_count": null,
   "metadata": {},
   "outputs": [],
   "source": [
    "# DO IT HERE "
   ]
  },
  {
   "cell_type": "markdown",
   "metadata": {},
   "source": [
    "#### User Input\n",
    "\n",
    "`input( )` accepts input and stores it as a string. Hence, if the user inputs a integer, the code should convert the string to an integer and then proceed..."
   ]
  },
  {
   "cell_type": "code",
   "execution_count": null,
   "metadata": {},
   "outputs": [],
   "source": [
    "a = input(\"Type something here and it will be stored in this variable \\t\")"
   ]
  },
  {
   "cell_type": "code",
   "execution_count": null,
   "metadata": {},
   "outputs": [],
   "source": [
    "a"
   ]
  },
  {
   "cell_type": "code",
   "execution_count": null,
   "metadata": {},
   "outputs": [],
   "source": [
    "type(a)"
   ]
  },
  {
   "cell_type": "markdown",
   "metadata": {},
   "source": [
    "You can convert the enterd number to *int*, using **int()** function to float with **foat()** function as follows:"
   ]
  },
  {
   "cell_type": "code",
   "execution_count": null,
   "metadata": {},
   "outputs": [],
   "source": [
    "a  =  int(input(\"Only integer can be stored in this variable \\t\"))\n",
    "b  =  float(input(\"Only float can be stored in this variable \\t\"))"
   ]
  },
  {
   "cell_type": "code",
   "execution_count": null,
   "metadata": {},
   "outputs": [],
   "source": [
    "print(a)"
   ]
  },
  {
   "cell_type": "code",
   "execution_count": null,
   "metadata": {},
   "outputs": [],
   "source": [
    "print(b)"
   ]
  },
  {
   "cell_type": "markdown",
   "metadata": {},
   "source": [
    "### 1.3 Operators and Expressions"
   ]
  },
  {
   "cell_type": "markdown",
   "metadata": {},
   "source": [
    "#### Numeric operator\n",
    "+ `+` (plus) : 2 + 1 =3\n",
    "+ `-`  (minus): : 2 - 1 =1\n",
    "+  `*` (multiply): 2*1 =2\n",
    "+ `**` (power): 3**2 =9\n",
    "+ `/` (divide):  3/2 =1.5\n",
    "+  `//` (divide and floor): 3//2 =1\n",
    "+ `%` (modulo)\" 5%3=2"
   ]
  },
  {
   "cell_type": "code",
   "execution_count": null,
   "metadata": {},
   "outputs": [],
   "source": [
    "x = 5\n",
    "y = 6.0"
   ]
  },
  {
   "cell_type": "code",
   "execution_count": null,
   "metadata": {},
   "outputs": [],
   "source": [
    "print(x+y)"
   ]
  },
  {
   "cell_type": "code",
   "execution_count": null,
   "metadata": {},
   "outputs": [],
   "source": [
    "print(x*y)"
   ]
  },
  {
   "cell_type": "code",
   "execution_count": null,
   "metadata": {},
   "outputs": [],
   "source": [
    "print(x**y)"
   ]
  },
  {
   "cell_type": "code",
   "execution_count": null,
   "metadata": {},
   "outputs": [],
   "source": [
    "print(20%6)"
   ]
  },
  {
   "cell_type": "markdown",
   "metadata": {},
   "source": [
    "### Logical operators\n",
    "+ `==` (equal to)) : Compares if the objects are equal\n",
    "+ `!=` (not equal to): : Compares if the objects are not equal\n",
    "+  `not` : (boolean NOT)\n",
    "+ `and` (boolean AND)\n",
    "+ `or` (boolean OR)\n",
    "+  `>` (greater than): Returns whether x is greater than y\n",
    "+  `<` (less than): Returns whether x is less than y. \n",
    "+  `<=` (less than or equal to)\n",
    "+  `>=` (greater than or equal to)"
   ]
  },
  {
   "cell_type": "markdown",
   "metadata": {},
   "source": [
    "<div class=\"alert alert-success\">\n",
    "    <b>Activity 2</b>: Suppose you have $20,000$ tsh, which you can invest with a $10$ % return each year. Write python code to calculate how much money you end up with after $5$ years.\n",
    "</div>\n"
   ]
  },
  {
   "cell_type": "markdown",
   "metadata": {},
   "source": [
    "### 1.4 Control Flow"
   ]
  },
  {
   "cell_type": "markdown",
   "metadata": {},
   "source": [
    "### Indentation\n",
    "\n",
    "It is important to keep a good understanding of how indentation works in Python to maintain the structure and order of your code. We will touch on this topic again when we start building out functions!\n"
   ]
  },
  {
   "cell_type": "markdown",
   "metadata": {},
   "source": [
    "### IF statement\n",
    "The if statement is used to check a condition: if the condition is true, we run a block of statements (called the if-block), else we process another block of statements (called the else-block). The else clause is optional."
   ]
  },
  {
   "cell_type": "markdown",
   "metadata": {},
   "source": [
    "**if**\n",
    "```python\n",
    " if some_condition:\n",
    "    algorithm\n",
    "```    \n",
    "\n",
    "**If-else**\n",
    "```python\n",
    "   if some_condition:\n",
    "       algorithm\n",
    "   else:\n",
    "      algorithm\n",
    "```\n",
    "\n",
    "**if-elif (nested if)**\n",
    "```python\n",
    "   if some_condition:\n",
    "      algorithm\n",
    "   elif some_condition:\n",
    "      algorithm\n",
    "   else:\n",
    "     algorithm\n",
    "```"
   ]
  },
  {
   "cell_type": "code",
   "execution_count": null,
   "metadata": {},
   "outputs": [],
   "source": [
    "# Example avoid division by zero\n",
    "val = 0\n",
    "num = 10\n",
    "if val == 0:\n",
    "    val += 2e-07\n",
    "result = num / val\n",
    "print(\"{0} dived {1:.2f} = {2:.2f}\".format(num, val, result))\n",
    "    "
   ]
  },
  {
   "cell_type": "code",
   "execution_count": null,
   "metadata": {},
   "outputs": [],
   "source": [
    "# Example avoid division by zero\n",
    "user_name = \"sambaiga\"\n",
    "password = \"sa1254\"\n",
    "if user_name==\"sambaiga\":\n",
    "    print(\"Hello \",user_name)\n",
    "    if password !=\"sa1234\":\n",
    "        print(\"Wrong password\")\n",
    "    else:\n",
    "        print(\"Access granted\")\n",
    "else:\n",
    "    print(\"user does not exist\")"
   ]
  },
  {
   "cell_type": "code",
   "execution_count": null,
   "metadata": {},
   "outputs": [],
   "source": [
    "# Unlike other languages, indentation is significant\n",
    "a = 5\n",
    "if a > 10:\n",
    "    print ('a is greater than 10')\n",
    "    if a >= 15:\n",
    "        print  ('a is also at least 15')\n",
    "elif a > 5:\n",
    "    print ('a is greater than 5 but not greater than 10')\n",
    "else:\n",
    "    print ('no condition matched')\n",
    "    print ('so a is 5 or less')"
   ]
  },
  {
   "cell_type": "markdown",
   "metadata": {},
   "source": [
    "### While  statement\n",
    "\n",
    "The while statement allows you to repeatedly execute a block of statements as long as a condition is true. \n",
    "```python\n",
    "while some_condition:\n",
    "      algorithm\n",
    "       \n",
    "```"
   ]
  },
  {
   "cell_type": "code",
   "execution_count": null,
   "metadata": {},
   "outputs": [],
   "source": [
    "# Example\n",
    "i = 1\n",
    "while i < 5:\n",
    "    print(\"The square root of {0} is {1}\".format(i, i**2))\n",
    "    i = i+1"
   ]
  },
  {
   "cell_type": "markdown",
   "metadata": {},
   "source": [
    "###  For Loops\n",
    "\n",
    "A for loop acts as an iterator in Python, it goes through items that are in a sequence or any other iterable item. We will see more about sequences in detail in later section. \n",
    "\n",
    "```python\n",
    "   for variable in something:\n",
    "       algorithm\n",
    "```"
   ]
  },
  {
   "cell_type": "code",
   "execution_count": null,
   "metadata": {},
   "outputs": [],
   "source": [
    "for i in range(6):\n",
    "    print(i)"
   ]
  },
  {
   "cell_type": "markdown",
   "metadata": {},
   "source": [
    "**Note** \n",
    "**range( )** function outputs the integers of the specified range. It can also be used to generate a series by specifying the difference between the two numbers within a particular range. The elements are returned in a list."
   ]
  },
  {
   "cell_type": "markdown",
   "metadata": {},
   "source": [
    "##### Example: \n",
    "Another common idea during a for loop is keeping some sort of running tally during the multiple loops. For example, lets create a for loop that sums up the list of number from 0 to 9:"
   ]
  },
  {
   "cell_type": "code",
   "execution_count": null,
   "metadata": {},
   "outputs": [],
   "source": [
    "num_sum = 0\n",
    "for num in range(10):\n",
    "    num_sum +=num\n",
    "    \n",
    "print(num_sum)    "
   ]
  },
  {
   "cell_type": "markdown",
   "metadata": {},
   "source": [
    "<div class=\"alert alert-success\">\n",
    "    <b>Activity 3</b>: Compute $$\\sum_{k=1}^N \\frac{1}{2^k}$$ for N = 10, N = 20 and N = 100. What happens when n gets larger and larger?\n",
    "</div>\n",
    "    \n",
    "\n",
    "\n"
   ]
  },
  {
   "cell_type": "markdown",
   "metadata": {},
   "source": [
    "#### The break and continue Statement\n",
    "\n",
    "- The `break` statement is used to break out of a loop statement i.e. stop the execution of a looping statement, even if the loop condition has not become False or the sequence of items has not been completely iterated over.\n",
    "\n",
    "- The `continue` statement is used to tell Python to skip the rest of the statements in the current loop block and to continue to the next iteration of the loop."
   ]
  },
  {
   "cell_type": "code",
   "execution_count": null,
   "metadata": {},
   "outputs": [],
   "source": [
    "while True:\n",
    "    s = int(input('Enter something : '))\n",
    "    if s == 0:\n",
    "        break\n",
    "    if s%2 == 0:\n",
    "        print('The number is even')\n",
    "        continue\n",
    "    #print('Input is of sufficient length')\n",
    "    # Do other kinds of processing here..."
   ]
  },
  {
   "cell_type": "markdown",
   "metadata": {},
   "source": [
    "### Progress bar\n",
    "Make your loops show a smart progress meter"
   ]
  },
  {
   "cell_type": "code",
   "execution_count": null,
   "metadata": {},
   "outputs": [],
   "source": [
    "import tqdm\n",
    "from  tqdm import tqdm as pbar"
   ]
  },
  {
   "cell_type": "code",
   "execution_count": null,
   "metadata": {},
   "outputs": [],
   "source": [
    "sum_of_n = 0\n",
    "N = 1e10\n",
    "for i in pbar(range(10000000)):\n",
    "    sum_of_n+=i\n",
    "print(sum_of_n)    "
   ]
  },
  {
   "cell_type": "markdown",
   "metadata": {},
   "source": [
    "### 1.5 Data Structures: \n",
    "Are structures which can hold some data together, used to store a collection of related data.\n",
    "\n",
    "\n",
    "\n",
    "#### 1.5.1 Sequences\n",
    "Sequence Types:There are three basic sequence types: lists, tuples, and range objects."
   ]
  },
  {
   "cell_type": "markdown",
   "metadata": {},
   "source": [
    "### Lists\n",
    "\n",
    "- create list\n",
    "- add item to list\n",
    "- access elements of a list"
   ]
  },
  {
   "cell_type": "code",
   "execution_count": null,
   "metadata": {},
   "outputs": [],
   "source": [
    "#name, gender, height, age, weight, region, status\n",
    "data = [\"James John\", \"M\", 176, 28, \"Dodoma\", 1]\n",
    "print(data)"
   ]
  },
  {
   "cell_type": "code",
   "execution_count": null,
   "metadata": {},
   "outputs": [],
   "source": [
    "data[0]"
   ]
  },
  {
   "cell_type": "code",
   "execution_count": null,
   "metadata": {},
   "outputs": [],
   "source": [
    "data[0:2]"
   ]
  },
  {
   "cell_type": "code",
   "execution_count": null,
   "metadata": {},
   "outputs": [],
   "source": [
    "#what about \n",
    "#data[-1]"
   ]
  },
  {
   "cell_type": "code",
   "execution_count": null,
   "metadata": {},
   "outputs": [],
   "source": [
    "data.append(\"350K\")\n",
    "data"
   ]
  },
  {
   "cell_type": "code",
   "execution_count": null,
   "metadata": {},
   "outputs": [],
   "source": [
    "# access all elements in a list\n",
    "for item in data:\n",
    "    print(item)"
   ]
  },
  {
   "cell_type": "markdown",
   "metadata": {},
   "source": [
    "#### List comprehensions "
   ]
  },
  {
   "cell_type": "code",
   "execution_count": null,
   "metadata": {},
   "outputs": [],
   "source": [
    "# create list of square of number from 1 to 10\n",
    "[x**2 for x in range(1, 11)]"
   ]
  },
  {
   "cell_type": "code",
   "execution_count": null,
   "metadata": {},
   "outputs": [],
   "source": [
    "### alternatively\n",
    "square = []\n",
    "for x in range(1, 11):\n",
    "    square.append(x**2)\n",
    "    \n",
    "square\n"
   ]
  },
  {
   "cell_type": "code",
   "execution_count": null,
   "metadata": {},
   "outputs": [],
   "source": [
    "## size of a list\n",
    "len(square)"
   ]
  },
  {
   "cell_type": "markdown",
   "metadata": {},
   "source": [
    "[More list methods](https://docs.python.org/3.6/tutorial/datastructures.html#more-on-lists)"
   ]
  },
  {
   "cell_type": "markdown",
   "metadata": {},
   "source": [
    "<div class=\"alert alert alert-success\">\n",
    "<b>Activity 4</b>:\n",
    "Build a list that contains every prime number between 1 and 100, in two different ways: \n",
    "1.  Using for loops and conditional if statements.\n",
    "2.  Using a list comprehension. \n",
    "</div>"
   ]
  },
  {
   "cell_type": "code",
   "execution_count": null,
   "metadata": {},
   "outputs": [],
   "source": [
    "## CODE HERE"
   ]
  },
  {
   "cell_type": "markdown",
   "metadata": {},
   "source": [
    "### Tuples\n",
    "A tuple consists of a number of values separated by commas, for instance:"
   ]
  },
  {
   "cell_type": "code",
   "execution_count": 5,
   "metadata": {},
   "outputs": [
    {
     "data": {
      "text/plain": [
       "(2, 5, 'parrot')"
      ]
     },
     "execution_count": 5,
     "metadata": {},
     "output_type": "execute_result"
    }
   ],
   "source": [
    "t = 2, 5, 'parrot'\n",
    "t"
   ]
  },
  {
   "cell_type": "markdown",
   "metadata": {},
   "source": [
    "As you see, on output tuples are always enclosed in parentheses\n",
    "\n",
    "Though tuples may seem similar to lists, they are often used in different situations and for different purposes.\n",
    "- Tuples are [immutable](https://docs.python.org/3.6/glossary.html#term-immutable), and usually contain a heterogeneous sequence of elements are accessed via unpacking.\n",
    "- Lists are [mutable](https://docs.python.org/3.6/glossary.html#term-immutable), and their elements are usually homogeneous and are accessed by iterating over the list."
   ]
  },
  {
   "cell_type": "markdown",
   "metadata": {},
   "source": [
    "The statement ``t = 2, 5, 'parrot'`` is an example of tuple packing: the values 2, 5, 'parrot are packed together in a tuple. The reverse operation is also possible:"
   ]
  },
  {
   "cell_type": "code",
   "execution_count": null,
   "metadata": {},
   "outputs": [],
   "source": [
    "x, y,z = t"
   ]
  },
  {
   "cell_type": "markdown",
   "metadata": {},
   "source": [
    "### Range\n",
    "\n",
    "The range type represents an immutable sequence of numbers and is commonly used for looping a specific number of times in for loops.\n",
    "\n",
    "syntax: ``range(start, stop, step)``\n",
    "\n",
    "- start: The value of the start parameter (or 0 if the parameter was not supplied)\n",
    "- stop: The value of the stop parameter\n",
    "- step: The value of the step parameter (or 1 if the parameter was not supplied)\n"
   ]
  },
  {
   "cell_type": "code",
   "execution_count": null,
   "metadata": {},
   "outputs": [],
   "source": [
    "list(range(10))"
   ]
  },
  {
   "cell_type": "code",
   "execution_count": null,
   "metadata": {
    "scrolled": true
   },
   "outputs": [],
   "source": [
    "list(range(0, 30, 5))"
   ]
  },
  {
   "cell_type": "markdown",
   "metadata": {},
   "source": [
    "#### Common Sequence Operations\n",
    "\n",
    "The following operations  are supported by most sequence types, both mutable and immutable. "
   ]
  },
  {
   "cell_type": "markdown",
   "metadata": {},
   "source": [
    "- `x in s`: True if an item of s is equal to x, else False\n",
    "- `x not in s`: False if an item of s is equal to x, else True\n",
    "- `s + t` :the concatenation of s and t\n",
    "- `s * n or n * s`: equivalent to adding s to itself n times\n",
    "- `len(s)`: length of s\n",
    "- `min(s)`: smallest item of s\n",
    "- `max(s)`: largest item of s\n",
    "- `s.count(x)`: total number of occurrences of x in s"
   ]
  },
  {
   "cell_type": "markdown",
   "metadata": {},
   "source": [
    "### Important python function\n",
    "\n",
    "- To loop over two or more sequences at the same time, the entries can be paired with the `zip()` function.\n",
    "- When looping through a sequence, the position index and corresponding value can be retrieved at the same time using the `enumerate()` function."
   ]
  },
  {
   "cell_type": "code",
   "execution_count": null,
   "metadata": {},
   "outputs": [],
   "source": [
    "days = ['Mon', 'Tue', 'Wed', 'Thus', 'Fr', \"Sat\", 'Sun']\n",
    "months = ['Jan', 'Feb', 'March', 'Apr', 'May', \"Jun\", 'July']"
   ]
  },
  {
   "cell_type": "code",
   "execution_count": null,
   "metadata": {},
   "outputs": [],
   "source": [
    "## enumerate:\n",
    "for i, day in enumerate(days):\n",
    "    print(f'index {i}, {day}') "
   ]
  },
  {
   "cell_type": "code",
   "execution_count": null,
   "metadata": {},
   "outputs": [],
   "source": [
    "## enumerate:\n",
    "for day, month in zip(days, months):\n",
    "    print(f'{day}, {month}') "
   ]
  },
  {
   "cell_type": "markdown",
   "metadata": {},
   "source": [
    "#### 1.5.2 Dictionary\n",
    "\n",
    "We've been learning about sequences in Python but now we're going to switch gears and learn about mappings in Python. If you're familiar with other languages you can think of these Dictionaries as hash tables. Dictionaries are more used like a database because here you can index a particular sequence with your user defined string.\n",
    "\n",
    "Mappings are a collection of objects that are stored by a key, unlike a sequence that stored objects by their relative position. This is an important distinction, since mappings won't retain order since they have objects defined by a key.\n",
    "A Python dictionary consists of a key and then an associated value. That value can be almost any Python object.\n",
    "\n",
    "\n",
    "We create a dictionary with {} and : to signify a key and a value\n",
    "```python\n",
    "my_dict = {'key1':'value1','key2':'value2'}\n",
    "```"
   ]
  },
  {
   "cell_type": "code",
   "execution_count": 6,
   "metadata": {},
   "outputs": [
    {
     "name": "stdout",
     "output_type": "stream",
     "text": [
      "{'name': 'James John', 'age': 28, 'gender': 'M', 'region': 'Dodoma', 'status': 1}\n"
     ]
    }
   ],
   "source": [
    "# create dictionary\n",
    "dic = {\n",
    "    'name':\"James John\",\n",
    "    'age': 28,\n",
    "    'gender':\"M\",\n",
    "    'region':\"Dodoma\",\n",
    "    'status':1\n",
    "}\n",
    "print(dic)"
   ]
  },
  {
   "cell_type": "markdown",
   "metadata": {},
   "source": [
    "In addition, dict comprehensions can be used to create dictionaries from arbitrary key and value expressions:"
   ]
  },
  {
   "cell_type": "code",
   "execution_count": null,
   "metadata": {},
   "outputs": [],
   "source": [
    "square={x: x**2 for x in range(1,11)}\n",
    "square"
   ]
  },
  {
   "cell_type": "code",
   "execution_count": 7,
   "metadata": {},
   "outputs": [
    {
     "name": "stdout",
     "output_type": "stream",
     "text": [
      "28\n"
     ]
    }
   ],
   "source": [
    "# Access value of element by key - most important feature!\n",
    "print(dic['age'])"
   ]
  },
  {
   "cell_type": "code",
   "execution_count": null,
   "metadata": {},
   "outputs": [],
   "source": [
    "dic['salary'] = \"310K\"\n",
    "print(dic)"
   ]
  },
  {
   "cell_type": "code",
   "execution_count": 8,
   "metadata": {},
   "outputs": [
    {
     "data": {
      "text/plain": [
       "dict_keys(['name', 'age', 'gender', 'region', 'status'])"
      ]
     },
     "execution_count": 8,
     "metadata": {},
     "output_type": "execute_result"
    }
   ],
   "source": [
    "#get list keys of a dictionary\n",
    "dic.keys()"
   ]
  },
  {
   "cell_type": "code",
   "execution_count": 9,
   "metadata": {},
   "outputs": [
    {
     "data": {
      "text/plain": [
       "dict_values(['James John', 28, 'M', 'Dodoma', 1])"
      ]
     },
     "execution_count": 9,
     "metadata": {},
     "output_type": "execute_result"
    }
   ],
   "source": [
    "#get list values in a dictionary\n",
    "dic.values()"
   ]
  },
  {
   "cell_type": "code",
   "execution_count": null,
   "metadata": {},
   "outputs": [],
   "source": [
    "#get list key, values pairs item in a dictionary\n",
    "for key , value in dic.items():\n",
    "    print(\"{0}: {1}\".format(key, value))"
   ]
  },
  {
   "cell_type": "markdown",
   "metadata": {},
   "source": [
    "### 1.6 Functions \n",
    "\n",
    "Functions will be one of our main building blocks when we construct larger amounts of code to solve problems.\n",
    "\n",
    "- function is a useful device that groups together a set of statements so they can be run more than once. They can also let us specify parameters that can serve as inputs to the functions.\n",
    "\n",
    "- functions allow us to not have to repeatedly write the same code again and again. \n",
    "- function in Python is defined by a ``def`` statement. The general syntax looks like this:"
   ]
  },
  {
   "cell_type": "code",
   "execution_count": null,
   "metadata": {},
   "outputs": [],
   "source": [
    "def name_of_function(arg1,arg2):\n",
    "    '''\n",
    "    This is where the function's Document String (doc-string) goes\n",
    "    '''\n",
    "    # Do stuff here\n",
    "    #return desired result\n"
   ]
  },
  {
   "cell_type": "markdown",
   "metadata": {},
   "source": [
    "#### Note: Docstrings: \n",
    "Documentation about what the function does and its parameters. General convention:"
   ]
  },
  {
   "cell_type": "code",
   "execution_count": null,
   "metadata": {},
   "outputs": [],
   "source": [
    "def normalize(data=None, mean=None, std=None):\n",
    "    '''\n",
    "    Normalization function\n",
    "    arguments:\n",
    "             data: the data value you want to normalize\n",
    "             mean: mean value of your data\n",
    "             std: standard deviation of your data\n",
    "    return:\n",
    "          z-score: normalized value   \n",
    "    '''\n",
    "    \n",
    "    return (data - mean)/ std\n",
    "        "
   ]
  },
  {
   "cell_type": "code",
   "execution_count": null,
   "metadata": {},
   "outputs": [],
   "source": [
    "result = normalize(data=27.8, mean=18, std=6)\n",
    "print(\"Normalized value is {:.2f}\".format(result))"
   ]
  },
  {
   "cell_type": "markdown",
   "metadata": {},
   "source": [
    "<div class=\"alert alert-success\">\n",
    "    <b>Activity 5</b>:Write a function called accept login(users, username, password) with three parameters: users a dictionary of username\n",
    "keys and password values, username a string for a login name and password a string for a password. The function should return\n",
    "True if the user exists and the password is correct and False otherwise. Here is the calling code, test your code with both good\n",
    "and bad passwords as well as non-existent login names:\n",
    "</div>"
   ]
  },
  {
   "cell_type": "code",
   "execution_count": null,
   "metadata": {},
   "outputs": [],
   "source": [
    "## CODE HERE"
   ]
  },
  {
   "cell_type": "markdown",
   "metadata": {},
   "source": [
    "<div class=\"alert alert alert-success\">\n",
    "<b>Activity 6</b>:\n",
    "The distance between two points x and y is the square root of the sum of squared differences along  each dimension of x and y. Create a function distance(x, y) that takes two vectors and outputs the \n",
    "distance between them. Use your function to find the distance between (0,0) and (1,1).\n",
    "</div>"
   ]
  },
  {
   "cell_type": "code",
   "execution_count": null,
   "metadata": {},
   "outputs": [],
   "source": [
    "## CODE HERE"
   ]
  },
  {
   "cell_type": "markdown",
   "metadata": {},
   "source": [
    "<div class=\"alert alert alert-success\">\n",
    "<b>Activity 7</b>: Using distance() function created in activity 6. Make a function in_circle(x, origin) that uses distance to determine if a two-dimensional point falls within the the unit circle with a given origin. That is, find if a two-dimensional point has distance $<1$ from the origin (0,0).Use your function to print whether the point (1,1) lies within the unit circle centered at (0,0).\n",
    "</div>"
   ]
  },
  {
   "cell_type": "code",
   "execution_count": null,
   "metadata": {},
   "outputs": [],
   "source": [
    "## CODE HERE"
   ]
  },
  {
   "cell_type": "markdown",
   "metadata": {},
   "source": [
    "### Lambda Expressions"
   ]
  },
  {
   "cell_type": "markdown",
   "metadata": {},
   "source": [
    "Small **anonymous functions** can be created with the `lambda` keyword. In Python, anonymous function means that a function is without a name.\n",
    "\n",
    "syntax: `lambda arguments: expression`"
   ]
  },
  {
   "cell_type": "code",
   "execution_count": null,
   "metadata": {},
   "outputs": [],
   "source": [
    "sq = lambda x: x**2"
   ]
  },
  {
   "cell_type": "code",
   "execution_count": null,
   "metadata": {},
   "outputs": [],
   "source": [
    "sq(2)"
   ]
  },
  {
   "cell_type": "markdown",
   "metadata": {},
   "source": [
    "Lambda functions can be used along with built-in functions like \n",
    "\n",
    "- `filter()`: Construct an iterator from those elements of iterable for which function returns true, \n",
    "- `map()`: Return an iterator that applies function to every item of iterable, yielding the results and \n"
   ]
  },
  {
   "cell_type": "markdown",
   "metadata": {},
   "source": [
    "### Example: \n",
    "Given list of ages for participants of AISG bootcamp = [10, 12, 22, 80, 50, 16, 33, 18, 17, 29] "
   ]
  },
  {
   "cell_type": "markdown",
   "metadata": {},
   "source": [
    "Let us filter out teenagers from this list"
   ]
  },
  {
   "cell_type": "code",
   "execution_count": null,
   "metadata": {},
   "outputs": [],
   "source": [
    "age =  [10, 12, 22, 80, 50, 16, 33, 18, 17, 29] \n",
    "lf=lambda x: (x<=18  and x>=12)\n",
    "teenagers=list(filter(lf , age))\n",
    "print(teenagers)"
   ]
  },
  {
   "cell_type": "markdown",
   "metadata": {},
   "source": [
    "Let use standarzide the list of age"
   ]
  },
  {
   "cell_type": "code",
   "execution_count": null,
   "metadata": {},
   "outputs": [],
   "source": [
    "import statistics as st\n",
    "mu=st.mean(age)\n",
    "std=st.stdev(age)\n",
    "\n",
    "lf = lambda x: round((x - mu)/std, 2)\n",
    "standarzied_age = list(map(lf ,age))\n",
    "print(standarzied_age)"
   ]
  },
  {
   "cell_type": "markdown",
   "metadata": {},
   "source": [
    "### 1.7 Module\n",
    "\n",
    "Modules are organized units (written as files) which contain functions, statements and other definitions.\n",
    "\n",
    "* Any file ending in `.py` is treated as a module (e.g., `my_function.py`, which names and defines a function `my_function`)\n",
    "\n",
    "* Modules: own global names/functions so you can name things whatever you want there and not conflict with the names in other modules.\n",
    "\n"
   ]
  },
  {
   "cell_type": "code",
   "execution_count": null,
   "metadata": {},
   "outputs": [],
   "source": [
    "%%writefile normalizer.py\n",
    "def normal(data=None, mean=None, std=None):\n",
    "    '''\n",
    "    Normalization function\n",
    "    arguments:\n",
    "             data: the data value you want to normalize\n",
    "             mean: mean value of your data\n",
    "             std: standard deviation of your data\n",
    "    return:\n",
    "          z-score: normalized value   \n",
    "    '''\n",
    "    \n",
    "    return (data - mean)/ std"
   ]
  },
  {
   "cell_type": "markdown",
   "metadata": {},
   "source": [
    "### Packages\n",
    "-  Packages are name-spaces which contain multiple packages and modules themselves. They are simply directories, but with a twist.\n",
    "- Each package in Python is a directory which MUST contain a special file called `__init__.py.` This file can be empty, and it indicates that the directory it contains is a Python package, so it can be imported the same way a module can be imported."
   ]
  },
  {
   "cell_type": "markdown",
   "metadata": {},
   "source": [
    "To Import modules and packages \n",
    "\n",
    "Different options are available:\n",
    "\n",
    "* <span style=\"color:green\">import <i>package-name</i></span>  <p> importing all functionalities as such\n",
    "* <span style=\"color:green\">from <i>package-name</i> import <i>specific function</i></span>  <p> importing a specific function or subset of the package/module\n",
    "* <span style=\"color:green\">from <i>package-name</i> import *  </span>   <p> importing all definitions and actions of the package (sometimes better than option 1)\n",
    "* <span style=\"color:green\">import <i>package-name</i> as <i>short-package-name</i></span>    <p> Very good way to keep a good insight in where you use what package"
   ]
  },
  {
   "cell_type": "code",
   "execution_count": null,
   "metadata": {},
   "outputs": [],
   "source": [
    "import normalizer \n",
    "result = normalizer.normal(data=27.8, mean=18, std=6)\n",
    "print(\"Normalized value is {:.2f}\".format(result))"
   ]
  },
  {
   "cell_type": "code",
   "execution_count": null,
   "metadata": {},
   "outputs": [],
   "source": [
    "#Alternatively\n",
    "from normalizer import normal\n",
    "result = normal(data=27.8, mean=18, std=6)\n",
    "print(\"Normalized value is {:.2f}\".format(result))"
   ]
  },
  {
   "cell_type": "markdown",
   "metadata": {},
   "source": [
    "#### Import modules from another directory"
   ]
  },
  {
   "cell_type": "code",
   "execution_count": null,
   "metadata": {},
   "outputs": [],
   "source": [
    "import sys\n",
    "sys.path.append('src/')\n",
    "import normalizer as norm \n",
    "result = norm.normal(data=27.8, mean=18, std=6)\n",
    "print(\"Normalized value is {:.2f}\".format(result))"
   ]
  },
  {
   "cell_type": "markdown",
   "metadata": {},
   "source": [
    "### Important python module\n",
    "\n",
    "- [statistics](https://docs.python.org/3/library/statistics.html) — Mathematical statistics functions: This module provides functions for calculating mathematical statistics of numeric (Real-valued) data\n",
    "- [math](https://docs.python.org/3/library/math.html) — Mathematical functions: This module provides access to the mathematical functions defined by the C standard.\n",
    "- [random](https://docs.python.org/3/library/random.html)— Generate pseudo-random numbers:This module implements pseudo-random number generators for various distributions."
   ]
  },
  {
   "cell_type": "code",
   "execution_count": null,
   "metadata": {},
   "outputs": [],
   "source": [
    "import math"
   ]
  },
  {
   "cell_type": "markdown",
   "metadata": {},
   "source": [
    "<div class=\"alert alert alert-success\">\n",
    "<b>Activity 8</b>:\n",
    "Using the math library, calculate and print the value of pi / 4.\n",
    "\n",
    "</div>"
   ]
  },
  {
   "cell_type": "code",
   "execution_count": null,
   "metadata": {},
   "outputs": [],
   "source": [
    "## CODE HERE"
   ]
  },
  {
   "cell_type": "code",
   "execution_count": null,
   "metadata": {},
   "outputs": [],
   "source": [
    "import random\n",
    "\n",
    "## Random Shuffle data in a list\n",
    "random.shuffle(age)\n",
    "print(age)"
   ]
  },
  {
   "cell_type": "code",
   "execution_count": null,
   "metadata": {},
   "outputs": [],
   "source": [
    "## Random select element from a list\n",
    "random.choice(age)"
   ]
  },
  {
   "cell_type": "code",
   "execution_count": null,
   "metadata": {},
   "outputs": [],
   "source": [
    "# Return a k length list of unique elements chosen from the population sequence or set. Used for random sampling without replacement. \n",
    "random.sample(age, 5)"
   ]
  },
  {
   "cell_type": "markdown",
   "metadata": {},
   "source": [
    "<div class=\"alert alert alert-success\">\n",
    "<b>Activity 9</b>:\n",
    "Using random.uniform, create a function rand(n) that generates a single float between -n and n. Call rand() once. So we can check your solution, we will use random.seed to fix the value called \n",
    "by your function.\n",
    "    \n",
    "Note:  add random.seed(1) to fixes the value called by your function,\n",
    "</div>"
   ]
  },
  {
   "cell_type": "code",
   "execution_count": null,
   "metadata": {},
   "outputs": [],
   "source": [
    "def rand(n=1):\n",
    "    random.seed(1)\n",
    "    \n",
    "    #code here"
   ]
  },
  {
   "cell_type": "markdown",
   "metadata": {},
   "source": [
    "\n"
   ]
  },
  {
   "cell_type": "markdown",
   "metadata": {},
   "source": [
    "<div class=\"alert alert alert-success\">\n",
    "<b>Activity 10</b>: Use the  rand function defined from  previous exercise to create a list x with 10000 number between -1 and 1\n",
    "</div>"
   ]
  },
  {
   "cell_type": "code",
   "execution_count": null,
   "metadata": {},
   "outputs": [],
   "source": [
    "## CODE HERE"
   ]
  },
  {
   "cell_type": "markdown",
   "metadata": {},
   "source": [
    "\n"
   ]
  },
  {
   "cell_type": "markdown",
   "metadata": {},
   "source": [
    "<div class=\"alert alert alert-success\">\n",
    "<b>Activity 11</b>: Use the in_circle are defined from previous exercise. Create a list of 10000 booleans called inside that are \n",
    "True if and only if the point in x with that index falls within the unit circle. Make sure to use in_circle. Print the proportion of points within the circle. \n",
    "This proportion is an estimate of the ratio of the two areas!\n",
    "</div>"
   ]
  },
  {
   "cell_type": "code",
   "execution_count": null,
   "metadata": {},
   "outputs": [],
   "source": []
  },
  {
   "cell_type": "markdown",
   "metadata": {},
   "source": [
    "#### 1.7 Reading and Writing Data to Files in Python\n",
    "To read and write file in python  you must first open files in the appropriate mode and read its contents:"
   ]
  },
  {
   "cell_type": "code",
   "execution_count": null,
   "metadata": {},
   "outputs": [],
   "source": [
    "with open('data/sms.txt', 'r') as f:\n",
    "    sms = f.read()\n",
    "    \n",
    "f.close()"
   ]
  },
  {
   "cell_type": "markdown",
   "metadata": {},
   "source": [
    "- `open()` takes a filename and a mode as its arguments. \n",
    "- `r` opens the file in read only mode. To write data to a file, pass in `w` as an argument instead:"
   ]
  },
  {
   "cell_type": "code",
   "execution_count": null,
   "metadata": {},
   "outputs": [],
   "source": [
    "sms"
   ]
  },
  {
   "cell_type": "code",
   "execution_count": null,
   "metadata": {},
   "outputs": [],
   "source": [
    "with open('data/data.txt', 'w') as f:\n",
    "    data = 'some data to be written to the file'\n",
    "    f.write(data)\n",
    "f.close()"
   ]
  },
  {
   "cell_type": "code",
   "execution_count": null,
   "metadata": {},
   "outputs": [],
   "source": [
    "data"
   ]
  },
  {
   "cell_type": "markdown",
   "metadata": {},
   "source": [
    "### Reading text files line-by-line and save to list"
   ]
  },
  {
   "cell_type": "code",
   "execution_count": null,
   "metadata": {},
   "outputs": [],
   "source": [
    "sms_list = []\n",
    "with open('data/sms.txt', 'r') as f:\n",
    "    for line in f:\n",
    "        l=line.strip() #removes any leading (spaces at the beginning) and trailing (spaces at the end) characters \n",
    "        if len(l)!=0:  # The EOF char is an empty string\n",
    "            sms_list+=[float(l)]\n",
    "f.close()"
   ]
  },
  {
   "cell_type": "code",
   "execution_count": null,
   "metadata": {},
   "outputs": [],
   "source": [
    "sms_list"
   ]
  },
  {
   "cell_type": "code",
   "execution_count": null,
   "metadata": {},
   "outputs": [],
   "source": [
    "st.mean(sms_list)"
   ]
  },
  {
   "cell_type": "code",
   "execution_count": null,
   "metadata": {},
   "outputs": [],
   "source": [
    "st.variance(sms_list)"
   ]
  },
  {
   "cell_type": "code",
   "execution_count": null,
   "metadata": {},
   "outputs": [],
   "source": [
    "st.stdev(sms_list)"
   ]
  },
  {
   "cell_type": "markdown",
   "metadata": {},
   "source": [
    "### Directory Listing"
   ]
  },
  {
   "cell_type": "markdown",
   "metadata": {},
   "source": [
    "`os.listdir()` is the method to use to get a directory listing:"
   ]
  },
  {
   "cell_type": "code",
   "execution_count": null,
   "metadata": {},
   "outputs": [],
   "source": [
    "import os\n",
    "dirs = os.listdir('data/')\n",
    "dirs"
   ]
  },
  {
   "cell_type": "markdown",
   "metadata": {},
   "source": [
    "os.listdir() returns a Python list containing the names of the files and subdirectories in the directory given by the path argument."
   ]
  },
  {
   "cell_type": "code",
   "execution_count": null,
   "metadata": {},
   "outputs": [],
   "source": [
    "for file in dirs:\n",
    "    print(file)"
   ]
  },
  {
   "cell_type": "markdown",
   "metadata": {},
   "source": [
    "In modern versions of Python, an alternative to `os.listdir()` is to use `os.scandir()` and `pathlib.Path()`."
   ]
  },
  {
   "cell_type": "code",
   "execution_count": null,
   "metadata": {},
   "outputs": [],
   "source": [
    "with os.scandir('data/') as dirs:\n",
    "    for file in dirs:\n",
    "        print(file.name)"
   ]
  },
  {
   "cell_type": "code",
   "execution_count": null,
   "metadata": {},
   "outputs": [],
   "source": [
    "from pathlib import Path\n",
    "\n",
    "dirs = Path('data/')\n",
    "for file in dirs.iterdir():\n",
    "    print(file.name)"
   ]
  },
  {
   "cell_type": "markdown",
   "metadata": {},
   "source": [
    "### Making Directories"
   ]
  },
  {
   "cell_type": "code",
   "execution_count": null,
   "metadata": {},
   "outputs": [],
   "source": [
    "##check if path exist\n",
    "os.path.isdir(\"data/\")"
   ]
  },
  {
   "cell_type": "code",
   "execution_count": null,
   "metadata": {},
   "outputs": [],
   "source": [
    "if os.path.isdir(\"results/\"):\n",
    "    os.mkdir('results/')"
   ]
  },
  {
   "cell_type": "markdown",
   "metadata": {},
   "source": [
    "### <font color=\"green\">Exercise 1</font> :\n",
    "A list of numbers can be very unsmooth, meaning very high numbers can be right next to very low numbers. This list may represent a smooth path in reality that is masked with random noise.One way to smooth the values in the list is to replace each value with the average of each value's neighbors, including the value itself."
   ]
  },
  {
   "cell_type": "markdown",
   "metadata": {},
   "source": [
    "1. Write  a function `moving_window_average(x, n_neighbors)` that takes a list x and the number of neighbors `n_neighbors` on either side to consider. For each value, the function computes the average of each value's  neighbors, including themselves. Have the function return a list of these averaged values that is the same  length as the original list. If there are not enough neighbors (for cases near the edge), substitute the \n",
    "original value as many times as there are missing neighbors. Use your function to find the moving window sum of sms list and n_neighbors=2.\n",
    "2. Compute the moving window average for sms_list for the range of n_neighbors 1-9. Store sms_list as well as each of these averages as consecutive lists in a list called sms_mva.\n",
    "3. For each list in sms_mva, calculate and store the range (the maximum minus the minimum) in two decimal places in a new list ranges. Print your answer. As the window width increases, does the range of each list increase or decrease? Why do you think that is?"
   ]
  },
  {
   "cell_type": "code",
   "execution_count": null,
   "metadata": {},
   "outputs": [],
   "source": [
    "#solution 1\n",
    "\n",
    "def moving_window_average(x, n_neighbors=1):\n",
    "    n = len(x)\n",
    "    width = n_neighbors*2 + 1\n",
    "    x = [x[0]]*n_neighbors + x + [x[-1]]*n_neighbors\n",
    "    # To complete the function,\n",
    "    # return a list of the mean of values from i to i+width for all values i from 0 to n-1.\n",
    "    return [sum(x[i:(i+width)]) / width for i in range(n)]\n",
    "    \n",
    "    \n",
    "\n",
    "mv=moving_window_average(sms_list, 2)\n"
   ]
  },
  {
   "cell_type": "code",
   "execution_count": null,
   "metadata": {},
   "outputs": [],
   "source": [
    "#sloution 2\n",
    "Y = [sms_list] + [moving_window_average(sms_list, n_neighbors) for n_neighbors in range(1, 10)]\n",
    "print(len(Y))"
   ]
  },
  {
   "cell_type": "code",
   "execution_count": null,
   "metadata": {},
   "outputs": [],
   "source": [
    "#solution 3\n",
    "ranges = [round(max(x)-min(x),2) for x in Y]\n",
    "print(ranges) "
   ]
  },
  {
   "cell_type": "markdown",
   "metadata": {},
   "source": [
    "### References"
   ]
  },
  {
   "cell_type": "markdown",
   "metadata": {},
   "source": [
    "## References\n",
    "\n",
    "- [python4datascience-atc](https://github.com/pythontz/python4datascience-atc)\n",
    "- [PythonDataScienceHandbook](https://github.com/jakevdp/PythonDataScienceHandbook)\n",
    "- [DS-python-data-analysis](https://github.com/jorisvandenbossche/DS-python-data-analysis)\n",
    "- [Working With Files in Python](https://realpython.com/working-with-files-in-python/)"
   ]
  }
 ],
 "metadata": {
  "kernelspec": {
   "display_name": "Python 3",
   "language": "python",
   "name": "python3"
  },
  "language_info": {
   "codemirror_mode": {
    "name": "ipython",
    "version": 3
   },
   "file_extension": ".py",
   "mimetype": "text/x-python",
   "name": "python",
   "nbconvert_exporter": "python",
   "pygments_lexer": "ipython3",
   "version": "3.6.5"
  },
  "latex_envs": {
   "LaTeX_envs_menu_present": true,
   "autoclose": false,
   "autocomplete": true,
   "bibliofile": "biblio.bib",
   "cite_by": "apalike",
   "current_citInitial": 1,
   "eqLabelWithNumbers": true,
   "eqNumInitial": 1,
   "hotkeys": {
    "equation": "Ctrl-E",
    "itemize": "Ctrl-I"
   },
   "labels_anchors": false,
   "latex_user_defs": false,
   "report_style_numbering": false,
   "user_envs_cfg": false
  }
 },
 "nbformat": 4,
 "nbformat_minor": 2
}
